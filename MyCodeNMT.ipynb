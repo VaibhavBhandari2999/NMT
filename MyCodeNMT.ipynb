{
  "nbformat": 4,
  "nbformat_minor": 0,
  "metadata": {
    "colab": {
      "name": "MyCodeNMT",
      "provenance": [],
      "collapsed_sections": [],
      "toc_visible": true
    },
    "kernelspec": {
      "name": "python3",
      "display_name": "Python 3"
    },
    "accelerator": "GPU"
  },
  "cells": [
    {
      "cell_type": "code",
      "metadata": {
        "id": "VPK7ThkC5y_I",
        "colab_type": "code",
        "outputId": "945deb53-2dc3-430e-9037-fa9afe66b28f",
        "colab": {
          "base_uri": "https://localhost:8080/",
          "height": 54
        }
      },
      "source": [
        "from google.colab import drive\n",
        "drive.mount('/content/gdrive')"
      ],
      "execution_count": 0,
      "outputs": [
        {
          "output_type": "stream",
          "text": [
            "Drive already mounted at /content/gdrive; to attempt to forcibly remount, call drive.mount(\"/content/gdrive\", force_remount=True).\n"
          ],
          "name": "stdout"
        }
      ]
    },
    {
      "cell_type": "code",
      "metadata": {
        "id": "C-TEi8jg6FaW",
        "colab_type": "code",
        "colab": {}
      },
      "source": [
        "import string\n",
        "import re\n",
        "from pickle import dump\n",
        "from unicodedata import normalize\n",
        "from numpy import array\n"
      ],
      "execution_count": 0,
      "outputs": []
    },
    {
      "cell_type": "code",
      "metadata": {
        "id": "Cx29mbop6VOP",
        "colab_type": "code",
        "colab": {}
      },
      "source": [
        "# load doc into memory\n",
        "def load_doc(filename):\n",
        "\t# open the file as read only\n",
        "\tfile = open(filename, mode='rt', encoding='utf-8')\n",
        "\t# read all text\n",
        "\ttext = file.read()\n",
        "\t# close the file\n",
        "\tfile.close()\n",
        "\treturn text"
      ],
      "execution_count": 0,
      "outputs": []
    },
    {
      "cell_type": "code",
      "metadata": {
        "id": "AJ0hiy2n6aWF",
        "colab_type": "code",
        "colab": {}
      },
      "source": [
        "# split a loaded document into sentences\n",
        "def to_pairs(doc):\n",
        "\tlines = doc.strip().split('\\n')\n",
        "\tpairs = [line.split('\\t') for line in  lines]\n",
        "\treturn pairs\n"
      ],
      "execution_count": 0,
      "outputs": []
    },
    {
      "cell_type": "code",
      "metadata": {
        "id": "NFWrM7yI6cPe",
        "colab_type": "code",
        "colab": {}
      },
      "source": [
        "# clean a list of lines\n",
        "def clean_pairs(lines):\n",
        "\tcleaned = list()\n",
        "\t# prepare regex for char filtering\n",
        "\t#re_print = re.compile('[^%s]' % re.escape(string.printable))\n",
        "\t# prepare translation table for removing punctuation\n",
        "\t#table = str.maketrans('', '', string.punctuation)\n",
        "\tfor pair in lines:\n",
        "\t\tclean_pair = list()\n",
        "\t\tfor line in pair:\n",
        "\t\t\t# normalize unicode characters\n",
        "\t\t\t#line = normalize('NFD', line).encode('ascii', 'ignore')\n",
        "\t\t\t#line = line.decode('UTF-8')\n",
        "\t\t\t# tokenize on white space\n",
        "\t\t\t#line = line.split()\n",
        "\t\t\t# convert to lowercase\n",
        "\t\t\t#line = [word.lower() for word in line]\n",
        "\t\t\t# remove punctuation from each token\n",
        "\t\t\t#line = [word.translate(table) for word in line]\n",
        "\t\t\t# remove non-printable chars form each token\n",
        "\t\t\t#line = [re_print.sub('', w) for w in line]\n",
        "\t\t\t# remove tokens with numbers in them\n",
        "\t\t\t#line = [word for word in line if word.isalpha()]\n",
        "\t\t\t# store as string\n",
        "\t\t\tclean_pair.append(' '.join(line))\n",
        "\t\tcleaned.append(clean_pair)\n",
        "\treturn array(cleaned)"
      ],
      "execution_count": 0,
      "outputs": []
    },
    {
      "cell_type": "code",
      "metadata": {
        "id": "-W2LC5J76fAe",
        "colab_type": "code",
        "colab": {}
      },
      "source": [
        "\n",
        "# save a list of clean sentences to file\n",
        "def save_clean_data(sentences, filename):\n",
        "\tdump(sentences, open(filename, 'wb'))\n",
        "\tprint('Saved: %s' % filename)\n"
      ],
      "execution_count": 0,
      "outputs": []
    },
    {
      "cell_type": "code",
      "metadata": {
        "id": "7zYrvtvP6kBw",
        "colab_type": "code",
        "outputId": "8082269f-c599-4d6c-f146-a3861fa32057",
        "colab": {
          "base_uri": "https://localhost:8080/",
          "height": 1000
        }
      },
      "source": [
        "\n",
        "# load dataset\n",
        "filename = '/content/gdrive/My Drive/Neural Machine Translation/English-Hindi-10000.txt'\n",
        "doc = load_doc(filename)\n",
        "# split into english-german pairs\n",
        "pairs = to_pairs(doc)\n",
        "# clean sentences\n",
        "clean_pairs = clean_pairs(pairs)\n",
        "# save clean pairs to file\n",
        "save_clean_data(clean_pairs, 'english-hindi.pkl')\n",
        "# spot check\n",
        "for i in range(100):\n",
        "\tprint('[%s] => [%s]' % (clean_pairs[i,0], clean_pairs[i,1]))\n",
        "\n"
      ],
      "execution_count": 0,
      "outputs": [
        {
          "output_type": "stream",
          "text": [
            "Saved: english-hindi.pkl\n",
            "[W e   g e n e r a l l y   f i n d   t h i s   c a p a c i t y   b e i n g   d i r e c t e d   t o w a r d s   m u n d a n e   o b j e c t s   a n d   c l o s e   r e l a t i o n s   l i k e   w i v e s   ,   c h i l d r e n   a n d   f r i e n d s   .] => [प ् र ा य ः   ह म   इ स   भ ं ड ा र   क ो   ल ौ क ि क   व ि ष य ो ं   प र   औ र   प त ् न ी   ,   प ु त ् र   म ि त ् र   आ द ि   स ग े   स ं ब ं ध ि य ो ं   प र   प ् र व र ् त ि त   क र   द े त े   ह ै ं   ।  ]\n",
            "[I   '   m   s u r e   I   '   l l   m a k e   a   c a r e l e s s   m i s t a k e   .] => [म ु झ े   ज न त ा   ह ू ँ   क ी   म ै ं   इ स   व ी ड ि य ो   म े ं   क ि स ी   भ ी   स म य]\n",
            "[D i s p l a y   w e b   b r o w s e r   h e l p   .] => [व े ब   ब ् र ा उ ज ़ र   म द द   द ि ख ा ए ँ]\n",
            "[I t   i s   o u t   o f   H i s   M e r c y   t h a t   H e   h a s   m a d e   f o r   y o u   N i g h t   a n d   D a y   ,   -   t h a t   y e   m a y   r e s t   t h e r e i n   ,   a n d   t h a t   y e   m a y   s e e k   o f   h i s   G r a c e   ;   -   a n d   i n   o r d e r   t h a t   y e   m a y   b e   g r a t e f u l   .] => [औ र   उ स न े   अ प न ी   म े ह र ब ा न ी   स े   त ु म ् ह ा र े   व ा स ् त े   र ा त   औ र   द ि न   क ो   ब न ा य ा   त ा क ि   त ु म   र ा त   म े ं   आ र ा म   क र ो   औ र   द ि न   म े ं   उ स क े   फ ज ़ ल   व   क र म   क ी   त ल ा श   क र ो   औ र   त ा क ि   त ु म   ल ो ग   श ु क ् र   क र ो]\n",
            "[T h e   d i s e a s e   c a u s e d   b y   n u t r i t i o n a l   d e f i c i e n c y   o f   a s c o r b i c   a c i d   ,   f o r m a l y   o c c u r i n g   i n   p e o p l e   w h o   h a d   n o t   b e e n   t o   s e a   r e s u l t s   i n   c i r c u l a r   s p o t s   ,   s t r i p e s   o r   p a t c h e s   s c a t t e r e d   o v e r   t h i g h s   ,   a r m s   ,   a n d   t r u n k   .] => [ए ब ् स क ा र ् ब ि क   अ म ् ल   क ु प ो ष ण   क ी   क म ी   क े   क ा र ण   द ् व ा र ा   ह ो न े   व ा ल ी   ब ी म ा र ी   ज ो   आ म त ौ र   स े   ल ो ग ो   म े ं   ह ो त ा   ह ै   ज ि स क े   क ा र ण   ग ो ल ा क ा र   ध ब ् ब े   ,   प ट ् ट ि य ो ं   य ा   ज ा ं घ ो ं   ,   ब ा ं ह   औ र   ध ड ़   प र   च क त ् त े   ।  ]\n",
            "[T h e   f i r s t   t e m p l e   w a s   b u i l t   b y   E m p e r o r   A s h o k a   i n   t h e   3 r d   c e n t u r y   B   .   C   .   ,   a n d   t h e   p r e s e n t   t e m p l e   d a t e s   f r o m   t h e   5 t h   o r   6 t h   c e n t u r i e s   .] => [प ् र थ म   म ं द ि र   त ी स र ी   श त ा ब ् द ी   ब ी   .   स ी   .   म े ं   स म ् र ा ट   अ श ो क   द ् व ा र ा   न ि र ् म ि त   क र ा य ा   ग य ा   थ ा   औ र   व र ् त म ा न   म ं द ि र   प ा ं च व ी ं   य ा   छ ठ व ी ं   श त ा ब ् द ी   म े ं   ब न ा ए   ग ए   ।  ]\n",
            "[S o   i f   y o u   h a v e   a   s t r a t e g y   ,   u s e   i t   a g a i n s t   M e   .] => [त ो   अ ग र   त ु म ् ह े ं   क ो ई   द ा ँ व   क र न ा   ह ो   त ो   आ ओ   च ल   च ु क ो]\n",
            "[S e v e r e   p a i n   i n   t h e   c h e s t   ,   o r   s h o r t n e s s   o f   b r e a t h   .] => [छ ा त ी   म े ं   त े ज   द र ् द   अ थ व ा   स ा ं स   ल े न े   म े ं   त क ल ी फ   ह ो]\n",
            "[R e m e m b e r   m y   c h o i c e   f o r   a l l   l i n k s   o f   t h i s   t y p e   .] => [इ स   प ् र क ा र   क े   स भ ी   ल ि ं क   क े   ल ि ए   म े र ा   च य न   य ा द   र ख े ं   .  ]\n",
            "[T h i s   e f f o r t   n e e d s   a   f u r t h e r   p u s h   .] => [इ स   प ् र य ा स   प र   औ र   अ ध ि क   ज ो र   द े न े   क ी   आ व श ् य क त ा   ह ै   ।  ]\n",
            "[T h e   B o o k s   o f   A b r a h a m   a n d   M o s e s   .] => [इ ब र ा ह ी म   औ र   म ू स ा   क े   स ह ी फ ़ ो ं   म े ं   भ ी   ह ै]\n",
            "[I t   i s   c o n f i r m e d   t h a t   p h y c o m y c e t e s   i s   p r e s n t   o n   t h e   g r a p e s   .] => [य ह   स ु न ि श ् च ि त   ह ै   क ि   अ ं ग ू र ो ं   प र   फ ा इ क ो म ा इ स ि ट ी ज   व ि द ् य म ा न   ह ै   .  ]\n",
            "[T h e   p e r s o n   w h o   h a s   m a d e   a   w i l l   .] => [व ह   व ् य क ् त ि   ज ि स न े   क ो ई   व स ी य त   क ी   ह ो   ।  ]\n",
            "[S o   l e a v e   t h e m   t o   b l u n d e r   a n d   p l a y   ,   u n t i l   t h e y   m e e t   t h e i r   D a y   w h i c h   t h e y   a r e   p r o m i s e d   .] => [अ त ः   उ न ् ह े ं   छ ो ड ़ ो   क ि   व े   व ् य र ् थ   ब ा त ो ं   म े ं   प ड ़ े   र ह े ं   औ र   ख े ल त े   र ह े   ,   य ह ा ँ   त क   क ि   व े   अ प न े   उ स   द ि न   स े   म ि ल े ं   ,   ज ि स क ा   उ न स े   व ा द ा   क ि य ा   ज ा   र ह ा   ह ै   ,  ]\n",
            "[T h e   s u p p l i e d   c r e d e n t i a l s   w e r e   n o t   v a l i d   f o r   c o n t e x t   i n i t i a t i o n   ,   o r   t h e   c r e d e n t i a l   h a n d l e   d i d   n o t   r e f e r e n c e   a n y   c r e d e n t i a l s   .] => [स ं द र ् भ   आ र ं भ   क े   ल ि य े   द ी   ग ई   म ह त ् व   म ा न ् य   न ह ी ं   थ ा   ,   य ा   म ह त ् व   न ि य ं त ् र ण   क ि स ी   म ह त ् व   क ा   स ं द र ् भ   न ह ी ं   ल े त ा   ह ै   .  ]\n",
            "[B a s i c   S a v i n g s   B a n k   D e p o s i t   A c c o u n t   .] => [ब ु न ि य ा द ी   ब च त   ब ै ं क   ज म ा   ख ा त ा]\n",
            "[C a r b o n   d i o x i d e   i n   t h e   s e a   i s   p r e s e n t   i n   s e v e r a l   f o r m s   :   1   a s   C O 2   i n   t r u e   s o l u t i o n   ;   2   a s   t h e   u n d i s s o c i a t e d   c a r b o n i c   a c i d   ,   H 2 C O 2   i n   m i n u t e   q u a n t i t y   ;   3   a s   d i s s o c i a t e d   c a r b o n i c   a c i d   ,   H C O 3   ;   4   a s   t h e   s l i g h t l y   s o l u b l e   c a r b o n a t e s   ;   a n d   5   a s   t h e   m o r e   s o l u b l e   b i c a r b o n a t e s   .] => [स म ु द ् र   म े ं   क ा र ् ब न   ड ा इ आ क ् स ा इ ड   क ई   र ू प ो ं   म े ं   उ प स ् थ ि त   ह ो त ी   ह ै   :   1   घ ो ल   क े   र ू प   म े ं   ,   C O 2   क े   र ू प   म े ं   ,   2   क ा र ् ब न ि क   ए स ि ड   ,   H 2   C O 2   ,   क े   र ू प   म े ं   क म   म ा त ् र ा   म े ं   3   H C O 3   क े   र ू प   म े ं   अ स ं ब द ् ध   क ा र ् ब ो न ि क   ए स ि ड   क े   र ू प   म े ं   ,   4   ह ल ् क े   घ ु ल न श ी ल   क ा र ् ब ो न े ट   क े   र ू प   म े ं   ,   औ र   5   अ ध ि क   घ ु ल न श ी ल   ब ा इ क ा र ् ब ो न े ट   क े   र ू प   म े ं   ।  ]\n",
            "[b y   a   r o a d s i d e   b o m b   b y   m i n u t e s   .] => [म ि न ट   स े   ए क   स ड ़ क   क े   क ि न ा र े   ब म   स े   .  ]\n",
            "[T h e n   u p o n   U s   i s   i t s   c l a r i f i c a t i o n   .] => [फ ि र   ह म ा र े   ज ़ ि म ् म े   ह ै   उ स क ा   स ् प ष ् ट ी क र ण   क र न ा]\n",
            "[W h y   h a d   t h e y   r u n   a w a y   ?   .] => [व े   ल ो ग   क ् य ो ं   भ ा ग   ग ए   ?  ]\n",
            "[H e   s a i d   :   T h e r e   s h a l l   n o t   c o m e   t o   y o u   t h e   f o o d   w i t h   w h i c h   y o u   a r e   f e d   ,   b u t   I   w i l l   i n f o r m   y o u   b o t h   o f   i t s   i n t e r p r e t a t i o n   b e f o r e   i t   c o m e s   t o   y o u   ;   t h i s   i s   o f   w h a t   m y   L o r d   h a s   t a u g h t   m e   ;   s u r e l y   I   h a v e   f o r s a k e n   t h e   r e l i g i o n   o f   a   p e o p l e   w h o   d o   n o t   b e l i e v e   i n   A l l a h   ,   a n d   t h e y   a r e   d e n i e r s   o f   t h e   h e r e a f t e r   :   .] => [य ू स ु फ   न े   क ह ा   ज ो   ख ा न ा   त ु म ् ह े ं   द ि य ा   ज ा त ा   ह ै   व ह   आ न े   भ ी   न   प ा ए ग ा   क ि   म ै   उ स क े   त ु म ् ह ा र े   प ा स   आ न े   क े   क ़ ब ् ल   ह ी   त ु म ् ह े   उ स क ी   त ा ब ी र   ब त ा ऊ ँ ग ा   य े   त ा ब ी र े   ख ् व ा ब   भ ी   उ न   ब ा त ो ं   क े   स ा थ   ह ै   ज ो   म े र े   प र व र द ि ग ा र   न े   म ु झ े   त ा ल ी म   फ र म ा ई   ह ै   म ै ं   उ न   ल ो ग ो ं   क ा   म ज ़ ह ब   छ ो ड ़   ब ै ठ ा   ह ू ँ   ज ो   ख ़ ु द ा   प र   ई म ा न   न ह ी ं   ल ा त े   औ र   व ह   ल ो ग   आ ख ़ ि र त   क े   भ ी   म ु न ् क ि र   ह ै]\n",
            "[C h o l a   w a s   v e r y   m u c h   p o w e r f u l   o n   s o u t h   s i d e   .] => [द क ् ष ि ण   म े ं   च ो ल   स ब स े   श क ् त ि श ा ल ी   न ि क ल े   ।  ]\n",
            "[B h a v a b h u t i   '   s   a r t   r e a c h e s   c e r t a i n   h e i g h t s   i n   o t h e r   r e s p e c t s   a l s o   o f   d r a m a t i c   c o n s t r u c t i o n   a n d   p o e t i c   t r e a t m e n t   .] => [न ा ट ् य   -   र च न ा   औ र   क ा व ् य   -   स र ् ज न ा   स े   स ं ब ं ध ि त   क ु छ   द ू स र े   क ् ष े त ् र ो ं   म े ं   भ ी   भ व भ ू त ि   क ी   क ल ा   न ि श ् च ि त   ऊ ँ च ा इ य ो ं   त क   प ह ु ँ च त ी   ह ै   ।  ]\n",
            "[T h e n   t h e y   p l o t t e d   ,   a n d   A l l a h   a l s o   d e v i s e d   ,   a n d   A l l a h   i s   t h e   b e s t   o f   d e v i s e r s   .] => [औ र   ख ़ ु द ा   क ी   ब ा र ग ा ह   म े ं   अ र ् ज ़   क ी   क ि   ऐ   ह म ा र े   प ा ल न े   व ा ल े   ज ो   क ु छ   त ू न े   न ा ज ़ ि ल   क ि य ा   ह म   उ स प र   ई म ा न   ल ा ए   औ र   ह म न े   त े र े   र स ू ल   क ी   प ै र व ी   इ ख ् त े य ा र   क ी   प स   त ू   ह म े ं   ग व ा ह ो ं   क े   द फ ् त र   म े ं   ल ि ख   ल े]\n",
            "[R e s p o n s i b l e   f o r   s e c u r i t y   w i t h i n   t h e   p r e c i n c t s   o f   P a r l i a m e n t   .] => [य ह   स े व ा   स ं स द   क ी   प ् र स ी म ा ओ ं   क े   भ ी त र   स ु र क ् ष ा   क े   ल ि ए   ज व ा ब द े ह   ह ै   ।  ]\n",
            "[B e c a u s e   o f   w i d e   a v a i l a b i l i t y   a n d   t y p o g r a p h i c   f l e x i b i l i t y   ,   i n c l u d i n g   p r o v i s i o n s   f o r   h a n d l i n g   t h e   d i v e r s e   b e h a v i o r s   o f   a l l   t h e   w o r l d   '   s   w r i t i n g   s y s t e m s   ,   O p e n   T y p e   f o n t s   a r e   u s e d   c o m m o n l y   t o d a y   o n   t h e   m a j o r   c o m p u t e r   p l a t f o r m s   .] => [व ् य ा प क   उ प ल ब ् ध त ा   औ र   ट ा इ प ो ग ् र ा फ ि क   ल च ी ल ा प न   क े   स ा थ   -   स ा थ   द ु न ि य ा   क ी   स भ ी   ल े ख न   प ् र ण ा ल ि य ो ं   क े   व ि व ि ध   व ् य व ह ा र   स े   न ि प ट न े   क े   प ् र ा व ध ा न ॉ न   क े   क ा र ण   ओ प न   ट ा इ प   फ ़ ॉ न ् ट   आ ज   आ म   त ौ र   प र   प ् र म ु ख   क ं प ् य ू ट र   प ् ल े ट फ ा र ् म ो ं   प र   इ स ् त े म ा ल   क ि य ा   ज ा   र ह ा   ह ै]\n",
            "[U n i n s t a l l   C h r o m i u m   A p p   L a u n c h e r   .] => [क ् र ो म ि य म   ए प ् ल ि क े श न   ल ॉ न ् च र   अ न इ ं स ् ट ॉ ल   क र े ं]\n",
            "[T h e   d o c u m e n t   i s   c o m p o s e d   o f   s e v e r a l   f i l e s   .   O n e   o r   m o r e   o f   t h e s e   f i l e s   c a n n o t   b e   a c c e s s e d   .] => [द स ् त ा व े ज ़   क ई   फ ा ई ल ो   स े   ब न ा   ह ै   .   ए क   य ा   ए क   स े   अ ध ि क   ऐ स े   फ ा ई ल ो त क   प ह ु ँ च ा   न ह ी ं   ल ी   ज ा   स क त ी   ह ै   .  ]\n",
            "[E i t h e r   t h e   c r e a t o r   g o d s   N i r a n t a l i   a n d   K a p a n t a l i   o f   K u t t i a   K o n d   o r   t h e   c r e a t o r   g o d   R u m r o k   o f   t h e   D i d a y i   w a s   r e s p o n s i b l e   f o r   c r e a t i o n   o f   t h e   s o l i d   w o r l d   ,   v e g e t a t i o n   a n d   a n i m a l s   .] => [य ा   त ो   अ न े क   स ृ ष ् ट ि क र ् त ा ओ ं   क ु ट ि य ा   क ं ध   क े   न ि र न ् त ा ल ी   औ र   क प न त ल ी   अ थ व ा   क ि स ी   ए क   स ् र ष ् ट ा   द ि द ई   ल ो ग ो ं   क े   र ू म र ो क   न े   ठ ो स   ध र त ी   व न स ् प त ि   त थ ा   ज ी व   -   ज ं त ु ओ ं   क ो   ब न ा य ा   ।  ]\n",
            "[T h e   o r g a n i s e d   s e c t o r   h a s   a   d o m i n a t i n g   p r e s e n c e   i n   t h e   a u t o m a t i c   a n d   s e m i a u t o m a t i c   w e l d i n g   e q u i p m e n t   a n d   h i g h e r   e n d   e l e c t r o d e s   ,   w h i l e   t h e   u n o r g a n i s e d   s e c t o r   m a i n l y   s e r v e s   m a n u a l   m e t a l   a r c   w e l d i n g   e q u i p m e n t   a n d   l o w   -   e n d   e l e c t r o d e   s e g m e n t s   .] => [स ं ग ठ ि त   क ् ष े त ् र   म े ं   स ् व च ा ल ि त   औ र   अ र ् ध   स ् व च ा ल ि त   व े ल ् ड ि ं ग   उ प क र ण ो ं   ए व ं   उ च ् च त र   अ ं त   इ ल े क ् ट ् र ो ड   क ी   उ प स ् थ ि त ि   प ् र भ ु त ् व क ा र ी   ह ै   ज ब क ि   अ स ं ग ठ ि त   क ् ष े त ् र   म े ं   म ु ख ् य त ः   ह ा थ   स े   क ी   ज ा न े   व ा ल ी   ध ा त ु   आ र ् क   व े ल ् ड ि ं ग   उ प क र ण   औ र   अ ल ् प   अ ं त   इ ल े क ् ट ् र ो ड   ख ण ् ड   म े ं   क ा र ् य   क ि य ा   ज ा त ा   ह ै   ।  ]\n",
            "[C o n n e c t i o n   h a s   b e e n   l o s t   .] => [N e t w o r k M a n a g e r   प ् र य ो ग   क र न ा   च ा ह ि ए]\n",
            "[T h e   V e l i c h a p p a d u   '   o r a c l e   w h o   i s   f r o m   t h e   N a y a r   c a s t e   g e t s   p o s s e s s e d   a n d   d a n c e s   t o   t h e   r h y t h m   o f   t h e   '   p a r a   '   a n d   o f f i c i a t e s   t h e   r i t u a l   o f   u p r o o t i n g   a n d   p l a c i n g   t h e   f l a g s t a f f   w i t h   t h e   h e l p   o f   t h e   v i l l a g e r s   .] => [व ै ल ी च ् प ा ड ु   द ि व ् य   प ु र ु ष   ज ो   न ी च ी   ज ा त ि   क ा   ह ो त ा   ह ै   ,   भ ू त   -   ग ् र स ् त   ह ो क र   प र ा   क ी   ल य   प र   न ृ त ् य   क र त ा   ह ै   त थ ा   स ु प ा र ी   क े   व ृ क ् ष   क ो   उ ख ा ड ़ न े   औ र   ल ग ा न े   क ी   प ् र क ् र ि य ा   क ो   ग ा ं व   व ा ल ो ं   क ी   स ह ा य त ा   स े   प ू र ा   क र त ा   ह ै   ।  ]\n",
            "[T h e   a l l i a n c e   w i t h   G o h a r b a i   r e m a i n e d   c o n t r o v e r s i a l   t o   h i s   d y i n g   d a y   .] => [उ न क ा   ग ौ ह र ब ा ई   स े   स ं स र ् ग   द ि न   त क   व ि व ा द ा स ् प द   ब न ा   र ह ा   ।  ]\n",
            "[T h e   m o t h e r   s h o u l d   b e   a d v i s e d   t o   i n c r e a s e   h e r   i n t a k e   o f   p r o t e i n   f o o d s   .] => [ग र ् भ व त ी   म ह ि ल ा   क ो   अ प न ी   प ् र ो ट ी न य ु क ् त   ख ु र ा क   ब ढ ़ ा न े   क ी   स ल ा ह   द े न ी   च ा ह ि ए   ।  ]\n",
            "[H o w   t e r r i b l e   i s   t h e   e x a m p l e   o f   t h o s e   w h o   h a v e   r e j e c t e d   O u r   r e v e l a t i o n s   a n d   h a v e   d o n e   i n j u s t i c e   o n l y   t o   t h e m s e l v e s   !   .] => [ब ु र े   ह ै   म ि स ा ल   क ी   द ृ ष ् ट ि   स े   व े   ल ो ग   ,   ज ि न ् ह ो ं न े   ह म ा र ी   आ य त ो ं   क ो   झ ु ठ ल ा य ा   औ र   व े   स ् व य ं   अ प न े   ह ी   ऊ प र   अ त ् य ा च ा र   क र त े   र ह े]\n",
            "[A n d   t h o s e   w h o   a c c u s e   f r e e   w o m e n   t h e n   d o   n o t   b r i n g   f o u r   w i t n e s s e s   ,   f l o g   t h e m   ,   e i g h t y   s t r i p e s   ,   a n d   d o   n o t   a d m i t   a n y   e v i d e n c e   f r o m   t h e m   e v e r   ;   a n d   t h e s e   i t   i s   t h a t   a r e   t h e   t r a n s g r e s s o r s   ,   .] => [औ र   ज ो   ल ो ग   श र ी फ ़   औ र   प ा क द ा म न   स ् त ् र ी   प र   त ो ह म त   ल ग ा ए ँ   ,   फ ि र   च ा र   ग व ा ह   न   ल ा ए ँ   ,   उ न ् ह े ं   अ स ् स ी   क ो ड ़ े   म ा र ो   औ र   उ न क ी   ग व ा ह ी   क भ ी   भ ी   स ् व ी क ा र   न   क र ो   -   व ह ी   ह ै   ज ो   अ व ज ् ञ ा क ा र ी   ह ै   ।   -  ]\n",
            "[S a y   :   V e r i l y   ,   t h o u g h   m a n k i n d   a n d   t h e   j i n n   s h o u l d   a s s e m b l e   t o   p r o d u c e   t h e   l i k e   o f   t h i s   Q u r   '   a n   ,   t h e y   c o u l d   n o t   p r o d u c e   t h e   l i k e   t h e r e o f   t h o u g h   t h e y   w e r e   h e l p e r s   o n e   o f   a n o t h e r   .] => [क ह   द ो   ,   \"   य द ि   म न ु ष ् य   औ र   ज ि न ् न   इ स क े   ल ि ए   इ क ट ् ठ े   ह ो   ज ा ए ँ   क ि   क ़ ु र आ न   ज ै स ी   क ो ई   च ी ज ़   ल ा ए ँ   ,   त ो   व े   इ स   ज ै स ी   क ो ई   च ी ज ़   न   ल ा   स क े ं ग े   ,   च ा ह े   व े   आ प स   म े ं   ए क   -   द ू स र े   क े   स ह ा य क   ह ी   क ् य ो ं   न   ह ो ं   ।   \"  ]\n",
            "[L o   !   y e   a r e   t h o s e   w h o   a r g u e   a b o u t   t h a t   w h e r e o f   y e   h a v e   s o m e   k n o w l e d g e   :   W h y   t h e n   a r g u e   y e   c o n c e r n i n g   t h a t   w h e r e o f   y e   h a v e   n o   k n o w l e d g e   ?   A l l a h   k n o w e t h   .   Y e   k n o w   n o t   .] => [\"   य े   त ु म   ल ो ग   ह ो   क ि   उ स क े   व ि ष य   म े ं   व ा द   -   व ि व ा द   क र   च ु क े   ज ि स क ा   त ु म ् ह े ं   क ु छ   ज ् ञ ा न   थ ा   ।   अ ब   उ स क े   व ि ष य   म े ं   क ् य ो ं   व ा द   -   व ि व ा द   क र त े   ह ो   ,   ज ि स क े   व ि ष य   म े ं   त ु म ् ह े ं   क ु छ   भ ी   ज ् ञ ा न   न ह ी ं   ?   अ ल ् ल ा ह   ज ा न त ा   ह ै   ,   त ु म   न ह ी ं   ज ा न त े   \"  ]\n",
            "[T h i s   t e m p l e   i s   d e v o t e d   f o r   G o d   S h i v a   a n d   a t t r a c t s   t h o u s a n d s   o f   p e o p l e s   f r o m   a l l   a r o u n d   t h e   w o r l d   .] => [भ ग व ा न   श ि व   क ो   स म र ् प ि त   य ह   म ं द ि र   प ् र त ि व र ् ष   ह ज ा र ो ं   द े श ी   -   व ि द े श ी   श ् र द ् ध ा ल ु ओ ं   क ो   अ प न ी   ओ र   ख ी ं च त ा   ह ै   ।  ]\n",
            "[T o   g i v e   a n o t h e r   e x a m p l e   o f   t h e   m a n n e r   i n   w h i c h   s u c h   m a l i c i o u s   a n d   f a l s e   t a l k   o r   w r i t i n g   i s   i n d u l g e d   i n   ,   t h e   p a r t y   t o   w h i c h   o n e   H o n   .] => [इ स   प ् र क ा र   क ी   द ु र ् भ ा व प ू र ् ण   औ र   झ ू ठ ी   ब ा त ो ं   क ी   क ि स   प ् र क ा र   च र ् च ा   क ी   ज ा   र ह ी   ह ै   य ा   उ न क े   ब ा र े   म े ं   ल ि ख ा   ज ा   र ह ा   ह ै   ,   इ स क ा   ए क   औ र   उ द ा ह र ण   द े न ा   च ा ह ू ं ग ी   ।  ]\n",
            "[A   n e w   c l i e n t   h a s   j u s t   a r r i v e d   .] => [ए क   न य ा   क ् ल ा ए ं ट   अ भ ी   आ य ा]\n",
            "[I f   b y   a   t w o   -   t h i r d s   m a j o r i t y   ,   R a j y a   S a b h a   p a s s e s   a   r e s o l u t i o n   t o   t h i s   e f f e c t   ,   t h e   U n i o n   P a r l i a m e n t   c a n   m a k e   l a w s   f o r   t h e   w h o l e   o r   a n y   p a r t   o f   t h e   c o u n t r y   e v e n   w i t h   r e s p e c t   t o   a   m a t t e r   e n u m e r a t e d   i n   t h e   S t a t e   L i s t   a r t i c l e   2 4 9   .] => [य द ि   द ो   त ि ह ा ई   ब ह ु म त   स े   र ा ज ् य   स भ ा   इ स   आ श य   क ा   क ो ई   स ं क ल ् प   प ा र ि त   क र   द े त ी   ह ै   त ो   स ं स द   स म ू च े   भ ा र त   य ा   उ स क े   क ि स ी   भ ा ग   क े   ल ि ए   व ि ध ि य ा ं   ब न ा   स क त ी   ह ै   अ न ु च ् छ े द   2 4 9   ।  ]\n",
            "[N o t e   :   i   S a n c t i o n i n g   A u t h o r i t y   c a n   a s s e s s   t h e   v a l u e   o f   a g r i c u l t u r a l   l a n d   u p t o   R s   .   1 5   l a k h s   t a k i n g   i n   t o   c o n s i d e r a t i o n   t h e   m a r k e t   r a t e   p r e v a i l i n g   i n   t h e   l o c a l i t y   .] => [न ो ट ः   1   प ् र ा ध ि क र ण   म ं ज ू र ी   ध ् य ा न   म े ं   र ख त े   ह ु ए   1 5   ल ा ख   र ु प य े   त क   क ृ ष ि   भ ू म ि   क े   म ू ल ् य   क ा   आ क ल न   क र   स क त े   ह ै ं   ज ि स म े ं   ज म ी न   क ी   स ् थ ा न ी य   क ी म त   क ो   ध ् य ा न   म े ं   र ख ा   ज ा य े   ।  ]\n",
            "[Y e t   y o u   s e e   t h o s e   i n   w h o s e   h e a r t s   i s   a   s i c k n e s s   r u s h i n g   t o   t h e m   ,   s a y i n g   ,   ‘ W e   f e a r   l e s t   a   t u r n   o f   f o r t u n e   s h o u l d   v i s i t   u s   .   ’   M a y b e   A l l a h   w i l l   b r i n g   a b o u t   a   v i c t o r y   ,   o r   a   c o m m a n d   f r o m   H i m   ,   a n d   t h e n   t h e y   w i l l   b e   r e g r e t f u l   f o r   w h a t   t h e y   k e p t   s e c r e t   i n   t h e i r   h e a r t s   ,   .] => [त ो   ज ि न   ल ो ग ो ं   क े   द ि ल ो ं   म े ं   ब ी म ा र ी   ह ै   त ु म   उ न ् ह े ं   द े ख ो ग े   क ि   उ न म े ं   द ौ ड ़   द ौ ड ़   क े   म ि ल े   ज ा त े   ह ै ं   औ र   त ु म स े   उ स क ी   व ज ह   य ह   ब य ा न   क र त े   ह ै ं   क ि   ह म   त ो   इ स स े   ड र त े   ह ै ं   क ि   क ह ी ं   ऐ स ा   न   ह ो   उ न क े   न   ज ़ म ा न े   क ी   ग र ् द ि श   म े ं   न   म ु ब ् त ि ल ा   ह ो   ज ा ए ं   त ो   अ न क ़ र ी ब   ह ी   ख ़ ु द ा   फ ़ त े ह   य ा   क ो ई   औ र   ब ा त   अ प न ी   त र फ ़   स े   ज ़ ा ह ि र   क र   द े ग ा   त ब   य ह   ल ो ग   इ स   ब द ग ु म ा न ी   प र   ज ो   अ प न े   ज ी   म े ं   छ ि प ा त े   थ े   श र ् म ा ए ं ग े]\n",
            "[T h e   f i r s t   C o m m i s s i o n e r   w a s   a   m a n   c a l l e d   A r t h u r   C r a w f o r d   ,   a f t e r   w h o m   t h e   g r e a t   B o m b a y   m a r k e t   w a s   c a l l e d   .] => [प ह ल े   आ य ु क ् त   आ थ र ् र   क ् र ॉ फ र ् ड   न ा म क   व ् य क ् त ि   थ े   ज ि न   प र   ब ं ब ई   क े   ब ह ु त   ब ड े   ब ा ज ा र   क ा   न ा म   र ख ा   ग य ा   ।  ]\n",
            "[T h e y   s o o n   f o u n d   L i o n   s l e e p i n g   n e a r b y   ,   w i t h   h o n e y   a l l   o v e r   h i s   p a w s   .] => [उ न ् ह े ं   ज ल ् द   ह ी   अ प न े   प ड ़ ो स   म े ं   स ो य ा   श े र   द ि ख ा ई   प ड ़   ग य ा   ।  ]\n",
            "[T h e r e f o r e   h e   r e t u r n e d   t o   K o l k a t t a   b y   a   f l i g h t   t h r o u g h   K a r a c h i   .] => [इ स ल ि ए   व े   ह व ा ई   ज ह ा ज   स े   क र ा च ी   ह ो क र   क ो ल क ा त ा   ल ौ ट े   ।  ]\n",
            "[R e n a m e   t h e   s e l e c t i o n   .] => [च य न ि त   क ा   न ा म   ब द ल े ं]\n",
            "[M o v i n g   m e s s a g e s   i n t o   f o l d e r   %   s   .] => [फ ़ ो ल ् ड र   म े ं   स ं द े श   व ि स ् थ ा प ि त   क र   र ह ा   ह ै]\n",
            "[W h a t   w e r e   t h e   p o l i c e m e n   w h o   w e r e   p o s t e d   t h e r e   d o i n g   ?   .] => [आ ख ि र   फ ा य र   ए र ि य ा   य े   प ु ल ि स   क े   ज व ा न   ज ो   य ह ा ं   त ै न ा त   थ े   व े   क ् य ा   क र   र ह े   थ े   ?  ]\n",
            "[O   P e o p l e   w h o   B e l i e v e   !   T h o s e   w h o   h a v e   m a d e   y o u r   r e l i g i o n   a   m o c k e r y   a n d   a   s p o r t   ,   a n d   t h o s e   w h o   r e c e i v e d   t h e   B o o k   b e f o r e   y o u   ,   a n d   t h e   d i s b e l i e v e r s   –   d o   n o t   b e f r i e n d   a n y   o f   t h e m   ;   a n d   k e e p   f e a r i n g   A l l a h   ,   i f   y o u   h a v e   f a i t h   .] => [ऐ   ई म ा न द ा र ो ं   ज ि न   ल ो ग ो ं   क ो   त ु म   स े   प ह ल े   क ि त ा ब े   द ी   ज ा   च ु क ी   ह ै   उ न म े ं   स े   ज ि न   ल ो ग ो ं   न े   त ु म ् ह ा र े   द ी न   क ो   ह ॅ स ी   ख े ल   ब न ा   र ख ा   ह ै   उ न क ो   औ र   क ु फ ् फ ़ ा र   क ो   अ प न ा   स र प र स ् त   न   ब न ा ओ   औ र   अ ग र   त ु म   स च ् च े   ई म ा न द ा र   ह ो   त ो   ख ़ ु द ा   ह ी   स े   ड र त े   र ह ो]\n",
            "[T h e   y o u n g   b o y   w a s   r e a l   a n t a g o n i s t   b e c a u s e   h e   a l w a y s   g o t   i n   a   f i g h t   w i t h   h i s   m o t h e r   i n   t h e   m o v i e   .] => [क ि श ो र   ल ड ़ क ा   व ा स ् त व ि क   व ि र ो ध ी   थ ा   क ् य ो ं क ि   व ह   फ ि ल ् म   म े ं   ह म े श ा   अ प न ी   म ा ं   स े   झ ग ड ़ त ा   र ह त ा   थ ा   ।  ]\n",
            "[I n   m y   o p i n i o n   ,   t h e   a p e x   c o u r t   d i d   n o t   m a k e   a   v e r y   p r a g m a t i c   d e c i s i o n   w h e n   i t   o r d e r e d   r e m o v a l   o f   b l a c k   f i l m   f r o m   a l l   v e h i c l e s   i n   t h e   c o u n t r y   .] => [म े र ी   र ा य   म े ं   स ु प ् र ी म   क ो र ् ट   न े   ए क   ब ह ु त   व ् य ा व ह ा र ि क   न ि र ् ण य   न ह ी ं   क ि य ा   ज ब   उ स न े   द े श   क े   स भ ी   व ा ह न ो ं   स े   क ा ल ी   फ ि ल ् म   क ो   ह ट ा न े   क ा   आ द े श   द ि य ा   ।  ]\n",
            "[N e w   d e v i c e   d e t e c t e d   .] => [न य ी   य ु क ् त ि   ख ो ज ी   ग य ी]\n",
            "[R e g a r d i n g   t h e   t o n e   o f   t h i s   n e w s p a p e r   ,   i t   h a s   b e e n   o b s e r v e d   i n   t h e   A d m i n i s t r a t i v e   R e p o r t   o f   1 8 8 3   -   8 4   t h u s   :   T h i s   n e w s p a p e r   n o   d o u b t   r e p r e s e n t s   t h e   v i e w s   a t   a n y   r a t e   o f   i t s   c o n d u c t o r s   ,   c o n t r i b u t o r s   a n d   s u b s c r i b e r s   .] => [इ स क ी   व ि च ा र ध ा र ा   क े   व ि ष य   म े ं   1 8 8 3   -   8 4   क ी   ए ड म ि न ि स ् ट ् र े ट ि व   र ि प ो र ् ट   म े ं   य ह   ल ि ख ा   ग य ा   ह ै   :   न ि स ् स ं द े ह   य ह   स म ा च ा र   प त ् र   अ प न े   स ं च ा ल क ो ं   ,   ल े ख क ो ं   औ र   ग ् र ा ह क ो ं   क े   व ि च ा र ो ं   क ा   प ् र त ि न ि ध ि त ् व   क र त ा   ह ै   ।  ]\n",
            "[T h e y   s h o u l d   n o t   b e   b r e d   e a r l i e r   .] => [इ स स े   प ू र ् व   इ न स े   प ् र ज न न   न ह ी ं   क र व ा य ा   ज ा न ा   च ा ह ि ए   ।  ]\n",
            "[N o t   m u c h   w a s   k n o w n   t o   e a r l y   m a n   a b o u t   t h e   N o r t h   a n d   S o u t h   P o l e s   .] => [प ् र ा च ी न   म ा न व   क ो   उ त ् त र   औ र   द क ् ष ि ण   ध ् र ु व ो ं   क े   ब ा र े   म े ं   क ु छ   प त ा   न ह ी ं   थ ा   ।  ]\n",
            "[T h e   G o v e r n m e n t   c o n s i d e r e d   t h e   r e h a b i l i t a t i o n   s c h e m e   a n d   f o u n d   t h e   p r o p o s a l   t e c h n o   -   e c o n o m i c a l l y   u n v i a b l e   .] => [स र क ा र   न े   क ं प न ी   क ी   ह ा ल त   स ु ध ा र न े   क ी   य ो ज न ा   प र   व ि च ा र   क ि य ा   म ग र   इ स े   त क न ी क ी   -   आ र ् थ ि क   द ृ ष ् ट ि   स े   व ् य व ह ा र ि क   न ह ी ं   प ा य ा   ग य ा   ।  ]\n",
            "[A l l   t h e   m a g e n t a   o n e s   a r e   u s e d   i n   t h e   U   .   S   .   A l l   o f   t h e   b l u e   .] => [र ा न ी   र ं ग   म े   अ म े र ि क ी   औ र   न ी ल े   र ं ग   म े]\n",
            "[R e c e n t l y   ,   a   p r e g n a n t   H I V   p o s i t i v e   w o m a n   w a s   d e p o r t e d   b a c k   t o   a   c o u n t r y   w i t h   n o   t r e a t m e n t   f o r   H I V   .] => [ह ा ल   ह ी   म े ं   ए क   ए च आ ई व ी   प ॉ ज ि ट ि व   ग र ् भ व त ी   म ह ि ल ा   क ो   ए च आ ई व ी   क े   क ि स ी   भ ी   प ् र क ा र   क े   उ प च ा र   क े   ब ि न ा   ह ी   न ि र ् व ा स ि त   क र   द ि य ा   ग य ा   ।  ]\n",
            "[I t   l o o k s   l i k e   a   h a i r   d r y e r   f r o m   M a r s   .] => [य ह   म ं ग ल   ग ् र ह   स े   आ य ा   ब ा ल   स ु ख ा न े   व ा ल ा   य ं त ् र   ल ग त ा   ह ै   .  ]\n",
            "[O   P e o p l e   o f   t h e   B o o k   !   O u r   M e s s e n g e r   h a s   c o m e   t o   y o u   ,   c l a r i f y i n g   f o r   y o u   m u c h   o f   w h a t   y o u   k e p t   h i d d e n   o f   t h e   B o o k   ,   a n d   o v e r l o o k i n g   m u c h   .   A   l i g h t   f r o m   G o d   h a s   c o m e   t o   y o u   ,   a n d   a   c l e a r   B o o k   .] => [ऐ   अ ह ल े   क ि त ा ब   त ु म ् ह ा र े   प ा स   ह म ा र ा   प ै ग म ् ब र   आ   च ु क ा   ज ो   क ि त ा ब े   ख ़ ु द ा   क ी   उ न   ब ा त ो ं   म े ं   स े   ज ि न ् ह े ं   त ु म   छ ु प ा य ा   क र त े   थ े   ब ह ु त े र ी   त ो   स ा फ ़   स ा फ ़   ब य ा न   क र   द े ग ा   औ र   ब ह ु त े र ी   स े   द र ग ु ज ़ र   क र े ग ा   त ु म ् ह र े   प ा स   त ो   ख ़ ु द ा   क ी   त र फ ़   स े   ए क   न ू र   औ र   स ा फ ़   स ा फ ़   ब य ा न   क र न े   व ा ल ी   क ि त ा ब   आ   च ु क ी   ह ै]\n",
            "[N u m b e r   o f   A c c e s s i b l e   H y p e r t e x t   L i n k s   .] => [प ह ु ँ च   य ो ग ् य   ह ा य प र ट े क ् स ् ट   क ड ़ ी   क ी   स ं ख ् य ा]\n",
            "[W h e n   y o u   b e l i e v e   i n   a   t h i n g   ,   b e l i e v e   i n   i t   a l l   t h e   w a y   ,   i m p l i c i t l y   a n d   u n q u e s t i o n a b l e   .] => [ज ब   आ प   क ि स ी   च ी ज ़   म े ं   य क ी न   क र े ं   ,   त ो   प ू र ी   त र ह   क र े ं   ,   न ि स ् स ं द े ह   औ र   न ि र ् व ि व ा द   र ू प   स े   ।  ]\n",
            "[A l l o w i n g   a   _   m a i l i n g   l i s t   t o   r e d i r e c t   a   p r i v a t e   r e p l y   t o   t h e   l i s t   .] => [म े ल ि ं ग   स ू च ी   क े   स ू च ी   न ि ज ी   ज व ा ब   अ न ु प ् र े ष ि त   क र न े   क े   ल ि ए   अ न ु म त ि   द े]\n",
            "[S o u r c e s   s a y   U n i o n   m i n i s t e r s   c a m p a i g n i n g   i n   D e l h i   h a v e   b e e n   q u i e t l y   i n s t r u c t e d   t o   r e f e r   t o   t h e   t e m p l e   c o n s t r u c t i o n   i n   t h e i r   s p e e c h e s   .] => [स ू त ् र ो ं   क े   म ु त ा ब ि क   ,   द ि ल ् ल ी   म े ं   प ् र च ा र   क र   र ह े   क े ं द ् र ी य   म ं त ् र ि य ो ं   क ो   च ु प च ा प   ह ि द ा य त   द ी   ग ई   ह ै   क ि   व े   अ प न े   भ ा ष ण ो ं   म े ं   म ं द ि र   म ु द ् द े   क ा   ज ि क ् र   क र े ं   .  ]\n",
            "[T h e n   H e   w i l l   r e t u r n   y o u   i n t o   i t   ,   a n d   w i l l   b r i n g   y o u   o u t   a g a i n   .] => [\"   फ ि र   व ह   त ु म ् ह े ं   उ स म े ं   ल ौ ट ा त ा   ह ै   औ र   त ु म ् ह े ं   ब ा ह र   न ि क ा ल े ग ा   भ ी]\n",
            "[A n d   t h i s   r e v i e w   o f   c h a i n   r u l e   .] => [औ र   च े न   श ा स न   क े   इ स   स म ी क ् ष ा   ।  ]\n",
            "[W h i c h   t h e n   o f   t h e   b o u n t i e s   o f   y o u r   L o r d   w i l l   y o u   d e n y   ?   .] => [अ त ः   त ु म   द ो न ो ं   अ प न े   र ब   क े   च म त ् क ा र ो ं   म े ं   स े   क ि स   -   क ि स   क ो   झ ु ठ ल ा ओ ग े   ?  ]\n",
            "[T a n g e n t   i s   u n d e f i n e d   f o r   a n g l e s   t h a t   a r e   m u l t i p l e s   o f   π   f r o m   π ∕ 2   .] => [ट ै न ज े ं ट   उ न   क ो ण ो ं   क े   ल ि ए   अ प र ि भ ा ष ि त   ह ै   ज ो   π   स े   π ∕ 2   क े   ब ी च   ग ु ण क   ह ै ं]\n",
            "[S u c h   d e p o s i t s   ,   i f   n o t   r e m o v e d   b y   s c a l i n g   ,   c a u s e   i n f e c t i o n   a n d   l o o s e n i n g   o f   t h e   g u m s   ,   u l t i m a t e l y   l e a d i n g   t o   p y o r r h o e a   a n d   t o o t h   l o s s   .] => [ऐ स े   स ं ग ् र ह   ,   य द ि   स ् क े ल ि ं ग   द ् व ा र ा   न   न ि क ा ल े   ज ा ए ं   त ो   स ं क ् र म ण   औ र   म स ू ड ़ ो ं   क ो   ढ ी ल ा   ब न ा   स क त े   ह ै ं   ,   ज ि स स े   अ ं त त ः   प ा य र ि य ा   ह ो   स क त ा   ह ै   औ र   द ा ं त   ग ि र   स क त े   ह ै ं   .  ]\n",
            "[B u t   t h i s   p o w e r   w a s   b y   n o   m e a n s   c h e a p   ,   w e l c o m e   a s   i t   w a s   i n   v i e w   o f   t h e   p o o r l y   d e v e l o p e d   p o w e r   r e s o u r c e s   i n   t h e   c o u n t r y   .   C h e a p   a n d   a d e q u a t e   p o w e r   i s   a   p o w e r f u l   l e v e r   o f   i n d u s t r i a l i s a t i o n   .] => [ल े क ि न   य ह   ब ि ज ल ी   क ि स ी   भ ी   त र ह   स स ् त ी   न ह ी ं   थ ी   ,   फ ि र   भ ी   इ स   द े श   क े   अ Z Z व ि क ़ स ि त   श क ़ ् त ि   स ं स ा ध न ो ं   क ो   द े ख त े   ह ु ए   इ स क ा   स ् व ा ग त   क ि य ा   ग य ा   .  ]\n",
            "[S o m e   o f   u s   h a v e   a   b u r g l a r   a l a r m   s y s t e m   a t   h o m e   ,   .] => [ह म स े   क ु छ   ल ो ग ो ं   क े   य ह ा ँ   च ो र   अ ल ा र ् म   ह ो त ा   ह ै ं]\n",
            "[P u t   u p   m e a n s   t o   p l a c e   i n   a   s p e c i f i e d   l o c a t i o n   .] => [प ् र स ् त ु त   क र न े   क ा   अ र ् थ   ह ो त ा   ह ै   ,   ए क   न ि र ् द ि ष ् ट   स ् थ ा न   प र   र ख न ा   ।  ]\n",
            "[I t   i s   o n l y   w h e n   w e   w o r k   t o g e t h e r   a n d   e a c h   I n d i a n   f e e l s   e m p o w e r e d   t o   c o n t r i b u t e   t o   t h e   t a s k   o f   n a t i o n   b u i l d i n g   t h a t   w e   s h a l l   b e   a b l e   t o   c o m b a t   p o v e r t y   ,   m a l n u t r i t i o n   ,   h u n g e r   a n d   d i s e a s e   .] => [ह म   ग र ी ब ी   ,   क ु प ो ष ण   ,   भ ू ख   औ र   ब ी म ा र ी   स े   ल ड ़ ा ई   त भ ी   ल ड ़   स क त े   ह ै ं   ज ब क ि   ह म   म ि ल   -   ज ु ल क र   क ा म   क र े   त थ ा   ह र   ए क   भ ा र त ी य   र ा ष ् ट ् र   न ि र ् म ा ण   क े   क ा म   म े ं   य ो ग द ा न   द े न े   क े   ल ि ए   अ प न े   क ो   स श क ् त   म ह स ू स   क र े   ।  ]\n",
            "[T o   r e a l i z e   t h i s   p o t e n t i a l   ,   t e c h n i c a l   c a p a b i l i t i e s   h a v e   t o   b e   b o o s t e d   t h r o u g h   g r e a t e r   i n v e s t m e n t   ,   t e c h n o l o g i c a l   u p   -   g r a d a t i o n   ,   m a r k e t   p r o m o t i o n   a n d   f a c i l i t a t o r y   g o v e r n m e n t   r o l e   .] => [इ स   क ् ष म त ा   क ो   स ा क ा र   क र न े   क े   ल ि ए   त क न ी क ी   स ा म र ् थ ् य   क ो   अ त ् य ध ि क   न ि व े श   ;   प ् र ौ द ् य ो ग ि क   उ न ् न य न   ,   ब ा ज ा र   क ा   स ं व र ् ध न   त थ ा   स ह य ो ग ी   स र क ा र ी   भ ू म ि क ा   क े   ज र ि ए   ब ढ ़ ा न ा   ह ो ग ा   ।  ]\n",
            "[i t   c a n n o t   c l a i m   a n y   r i g h t s   i n   t h e   a s s e t s   o f   t h e   c o m p a n y   .] => [य ह   क ं प न ी   क ी   प र ि स ं प त ् त ि य ो ं   म े ं   क ो ई   अ ध ि क ा र   क ा   द ा व ा   न ह ी ं   क र   स क त ा]\n",
            "[p e r s o n   i n   s t a t e   o f   c o m a   .] => [क ो म ा   क ी   स ् थ ि त ि   म े ं   ग य ा   ह ु आ]\n",
            "[I n   o t h e r   w o r d s   ,   p u r i f i c a t i o n   m u s t   n o t   b e   u n d e r s t o o d   i n   a n y   l i m i t e d   s e n s e   o f   a   s e l e c t i o n   o f   c e r t a i n   o u t w a r d   k i n e t i c   m o v e m e n t s   ,   t h e i r   r e g u l a t i o n   ,   t h e   i n h i b i t i o n   o f   o t h e r   a c t i o n   o r   a   l i b e r a t i o n   o f   c e r t a i n   f o r m s   o f   c h a r a c t e r   o r   p a r t i c u l a r   m e n t a l   a n d   m o r a l   c a p a c i t i e s   .] => [द ू स र े   श ब ् द ो ं   म े ं   ,   ह म े ं   श ु द ् ध ि   क ा   क ो ई   ऐ स ा   स ी म ि त   अ र ् थ   न ह ी ं   ल े न ा   च ा ह ि य े   क ि   क ि न ् ह ी ं   ब ा ह ् म   र ज ो ग ु ण ी   च े ष ् ट ा ओ ं   क ो   च ु न क र   उ न ् ह े ं   न ि य म ि त   क र न ा   ,   अ न ् य   स ब   क ा र ् य ो ं   क ा   न ि ष े ध   क र न ा   अ थ व ा   च र ि त ् र   क े   क ु छ   -   ए क   र ू प ो ं   य ा   क ि न ् ह ी ं   व ि श े ष   म ा न स ि क   ए व ं   न ै त ि क   क ् ष म त ा ओ ं   क ो   उ न ् म ु क ् त   क र न ा इ स ी   क ा   न ा म   श ु द ् ध ि   ह ै   ।  ]\n",
            "[T h e   g o v e r n m e n t   w a n t e d   '   t o   t r e a t   t h e m   a s   t r a i t o r s   a n d   p u n i s h   t h e m   a c c o r d i n g l y   .] => [स र क ा र   उ न स े   द े श द ् र ो ह ि य ो ं   क ी   त र ह   ब र ् त ा व   क र न ा   च ा ह त ी   थ ी   औ र   उ न ् ह े ं   द ं ड   द े न ा   च ा ह त ी   थ ी   .  ]\n",
            "[M u s l i m   c o n q u e s t   i n   t h e   I n d i a n   s u b c o n t i n e n t   .] => [भ ा र त ी य   उ प म ह ा द ् व ी प   क ा   इ स ् ल ा म ी   इ त ि ह ा स]\n",
            "[T h e r e   i s   i n d e e d   s o m e   j u s t i f i c a t i o n   f o r   N a n a l a l   t o   a s s o c i a t e   h i m s e l f   a s   a   p l a y w r i g h t   w i t h   S h e l l e y   a n d   G o e t h e   r a t h e r   t h a n   w i t h   S h a k e s p e a r e   .] => [श ै ल ी   औ र   ग े ट े   स े   स ् व य ं   क ो   ज ो ड ़ न े   क ा   य ह   प ् र य त ् न   अ क ा र ण   न ह ी ं   ह ै   ।  ]\n",
            "[B u t   p u n i s h m e n t   s h a l l   b e   a v e r t e d   f r o m   h e r   ,   i f   s h e   s w e a r s   f o u r   t i m e s   b y   G o d   ,   t h a t   h e   i s   a   l i a r   .] => [प त ् न ़ ी   स े   भ ी   स ज ़ ा   क ो   य ह   ब ा त   ट ा ल   स क त ी   ह ै   क ि   व ह   च ा र   ब ा र   अ ल ् ल ा ह   क ी   क ़ स म   ख ा क र   ग व ा ह ी   द े   क ि   व ह   ब ि ल क ु ल   झ ू ठ ा   ह ै]\n",
            "[T h e s e   t w o   p r o g r a m m e s   a r e   i n t e r l i n k e d   a n d   w i l l   p r e p a r e   o u r   n a t i o n   f o r   a n   i n c r e a s i n g l y   u r b a n   f u t u r e   .] => [य े   द ो न ो ं   क ा र ् य क ् र म   प र स ् प र   स ं ब द ् ध   ह ै ं   औ र   इ स स े   ह म ा र ा   द े श   त े ज ी   स े   ब ढ ़ त े   ह ु ए   श ह र ी क र ण   क े   ल ि ए   त ै य ा र   ह ो ग ा   ।  ]\n",
            "[T h e   s e n t i n e l   r e p l i e d   O h   ,   B e l o v e d   o f   t h e   G o d s   ,   B h a g a w a n   T i r t h a n k a r a   M a h a v i r a   h a s   a r r i v e d   i n   t h e   c i t y   .] => [क ं च ु क ी   न े   उ त ् त र   द ि य ा   ह े   द े व ा न ु प ् र ि य   !  ]\n",
            "[H e   w a s   a l s o   S e n i o r   C o u n s e l   f o r   m y   e m p l o y e r s   .] => [व े   द ा द ा   अ ब ् द ु ल ् ल ा क े   ब ड ़ े   व क ी ल   भ ी   थ े   ।  ]\n",
            "[a n d   b e f o r e   t h e m   t h e   p e o p l e   o f   N o a h   w h o   w e r e   e v e n   m o r e   u n j u s t   a n d   i n s o l e n t   ;   .] => [औ र   उ स स े   प ह ल े   न ू ह   क ी   क ़ ौ म   क ो   भ ी   ।   ब े श क   व े   ज ़ ा ल ि म   औ र   स र क श   थ े]\n",
            "[B u t   t h e   C e n t r a l   G o v e r n m e n t   h a s   b e e n   p a y i n g   s p e c i a l   a t t e n t i o n   t o   t h e   p r o b l e m s   o f   J a m m u   a n d   L a d a k h   .] => [ल े क ि न   क े न ् द ् र   स र क ा र   ज म ् म ू   औ र   ल द ् द ा ख   क ी   ओ र   व ि श े ष   ध ् य ा न   द े   र ह ी   ह ै   ।  ]\n",
            "[I t   u s e d   t h e   v e r t i c a l   l i n e   o n l y   t o   i n d i c a t e   t h e   e n d   o f   a   p a r a   ,   s o   t h a t   t h e   d i f f e r e n t   s e n t e n c e s   c o n t a i n e d   w i t h i n   i t   g e t   m i x e d   u p   w i t h   o n e   a n o t h e r   .] => [व ह   प ू र ् ण   व ि र ा म   क ा   इ स ् त े म ा ल   प ै र ा   क े   अ न ् त   म े ं   ह ी   क र त ा   ह ै   औ र   इ स   त र ह   त म ा म   व ा क ् य   ग ड ् ड   -   म ड ् ड   ह ो   ज ा त े   ह ै ं   ।  ]\n",
            "[D e v o t i n g   y o u r s e l f   t o   A l l a h   ,   n o t   a s c r i b i n g   a n y   p a r t n e r   t o   H i m   ;   a n d   w h o e v e r   a s c r i b e s   p a r t n e r s   t o   A l l a h   i s   a s   i f   h e   h a s   f a l l e n   f r o m   t h e   s k y   a n d   t h e   b i r d s   s n a t c h   h i m   o r   t h e   w i n d   b l o w s   h i m   a w a y   t o   a   f a r   -   o f f   p l a c e   .] => [इ स   त र ह   क ि   अ ल ् ल ा ह   ह ी   क ी   ओ र   क े   ह ो क र   र ह ो   ।   उ स क े   स ा थ   क ि स ी   क ो   स ा झ ी   न   ठ ह र ा ओ   ,   क ् य ो ं क ि   ज ो   क ो ई   अ ल ् ल ा ह   क े   स ा थ   स ा झ ी   ठ ह र ा त ा   ह ै   त ो   म ा न ो   व ह   आ क ा श   स े   ग ि र   प ड ़ ा   ।   फ ि र   च ा ह े   उ स े   प क ् ष ी   उ च क   ल े   ज ा ए ँ   य ा   व ा य ु   उ स े   क ि स ी   द ू र व र ् त ी   स ् थ ा न   प र   फ े ं क   द े]\n",
            "[C h a n g e s   b r i g h t n e s s   l e v e l   .] => [च म क ी ल ा प न   स ् त र   ब द ल त ा   ह ै]\n",
            "[s i n c e   t h e   m o r n i n g   ,   p e o p l e   d i s t r i b u t e   t h e   s w e e t s   a n d   g i f t s   t o   r e l a t i v e s   ,   f r i e n d s   a n d   n e a r s   a n d   d e a r e r   .] => [स ु ब ह   स े   ह ी   ल ो ग   र ि श ् त े द ा र ो ं   म ि त ् र ो ं   स ग े   -   स ं ब ं ध ि य ो ं   क े   घ र   म ि ठ ा इ य ा ँ   व   उ प ह ा र   ब ा ँ ट न े   ल ग त े   ह ै ं   ।  ]\n",
            "[S i n c e   i f   a l l   p o w e r f u l   H e   l e a v e s   i t   s o   H e   i s   n o t   g o o d   ,   a n d   i f   n o t   p o w e r f u l   ,   H e   i s   n o t   G o d   !   .] => [स र ् व श क ् त ि म ा न   ह ी   ऐ स ा   क र त ा   ह ै   त ो   व ह   श ु भ   न ह ी ं   औ र   य द ि   उ स म े ं   श क ् त ि   न ह ी ं   ,   त ो   व ह   ई श ् व र   ह ी   क ् य ा   ?  ]\n",
            "[A n d   i t   i s   H e   W h o   g a v e   y o u   l i f e   ,   t h e n   w i l l   c a u s e   y o u   t o   d i e   ,   a n d   w i l l   t h e n   r e v i v e   y o u   ;   i n d e e d   m a n   i s   v e r y   u n g r a t e f u l   .] => [औ र   व ह ी   त ो   क ़ ा द ि र   म ु त ् त ल ि क ़   ह ै   ज ि स न े   त ु म क ो   ज ि ल ा   उ ठ ा य ा   फ ि र   व ह ी   त ु म क ो   म ा र   ड ा ल े ग ा   फ ि र   व ह ी   त ु म क ो   द ो ब ा र ा   ज ़ ि न ् द ग ी   द े ग ा]\n",
            "[D o   t h o s e   w h o   d o   e v i l   t h i n k   t h a t   t h e y   w i l l   g e t   t h e   b e t t e r   o f   U s   ?   H o w   b a d   i s   t h e   j u d g e m e n t   t h a t   t h e y   m a k e   !   .] => [क ् य ा   ज ो   ल ो ग   ब ु र े   ब ु र े   क ा म   क र त े   ह ै ं   उ न ् ह ो ं न े   य े   स म झ   ल ि य ा   ह ै   क ि   व ह   ह म स े   न ि क ल   ज ा ए ँ ग े   य े   ल ो ग   क ् य ा   ह ी   ब ु र े   ह ु क ् म   ल ग ा त े   ह ै ं]\n",
            "[T h e   w h o l e   o f   t h e   c a s e   o f   t h e   S i n d   H i n d u   S a b h a   i s   a   n e g a t i o n   o f   t h e   p r i n c i p l e   o f   d e m o c r a c y   ,   e x c e p t   i n   s o   f a r   a s   j o i n t   e l e c t o r a t e s   a r e   d e m a n d e d   .] => [म ि ल े   -   ज ु ल े   च ु न ा व   क र ा न े   क ी   म ा ं ग   क े   अ ल ा व ा   स ि ं ध   ह ि ं द ू   म ह ा स भ ा   क ा   स ा र ा   म ा म ल ा   ल ो क त ं त ् र   क े   उ स ू ल ो ं   क े   ख ि ल ा फ   ह ै   .  ]\n",
            "[L o w   L e v e l   L i g h t   W e i g h t   R a d a r   ,   .] => [क म   उ ं च ा ई   प र   क ा म   क र न े   व ा ल े   ह ल ् क े   र ा ड ा र   ,  ]\n",
            "[S i n c e   m y   a r r i v a l   ,   I   h a v e   b e e n   t o u c h e d   b y   t h e   w a r m t h   a n d   f r i e n d l y   s e n t i m e n t s   o f   t h e   p e o p l e   o f   I s r a e l   .] => [अ प न े   आ ग म न   क े   ब ा द   स े   ,   इ ज र ा इ ल   क ी   ज न त ा   क ी   ह ा र ् द ि क   औ र   म ै त ् र ी प ू र ् ण   भ ा व न ा ओ ं   स े   अ भ ि भ ू त   ह ु आ   ह ू ं   ।  ]\n",
            "[T h e   d o c t r i n e   o f   t r a n s m i g r a t i o n   o f   s o u l s   o r   r e g e n e r a t i o n   .] => [आ त ् म ा ओ ं   क ा   प र ा प ् र व स न   य ा   प ु र ् न उ त ् प न न   ह ो न े   क ा   स ि द ् ध ा ं त]\n",
            "[Q u e s t i o n s   t h a t   c o n t a i n   a r g u m e n t s   ,   i n f e r e n c e s   o r   d e f a m a t o r y   s t a t e m e n t s   o r   o t h e r w i s e   r e f e r   t o   t h e   c h a r a c t e r   o r   c o n d u c t   o f   a n y   p e r s o n   e x c e p t   i n   h i s   o f f i c i a l   o r   p u b l i c   c a p a c i t y   ,   a n d   q u e s t i o n s   w h i c h   i n s t e a d   o f   s e e k i n g   i n f o r m a t i o n   t e n d   t o   g i v e   i n f o r m a t i o n   a r e   n o t   a d m i t t e d   .] => [ऐ स े   प ् र श ् न   ग ृ ह ी त   न ह ी ं   क ि ए   ज ा त े   ज ि न म े ं   त र ् क   ,   न ि ष ् क र ् ष   य ा   म ा न ह ा न ि क ा र क   क थ न   ह ो ं   य ा   ज ि न म े ं   क ि स ी   व ् य क ़ ् त ि   क ी   स र क ा र ी   य ा   स ा र ् व ज न ि क   ह ै स ि य त   स े   न ह ी ं   ब ल ् क ि   उ स क ी   व ् य क ़ ् त ि ग त   ह ै स ि य त   स े   उ स क े   च र ि त ् र   य ा   आ च र ण   क ा   उ ल ् ल े ख   ह ो   ,   औ र   ऐ स े   प ् र श ् न   ज ि न म े ं   ज ा न क ा र ी   म ा ं ग न े   क ी   ब ज ा ए   ज ा न क ा र ी   द ी   ग ई   ह ो   .  ]\n"
          ],
          "name": "stdout"
        }
      ]
    },
    {
      "cell_type": "code",
      "metadata": {
        "id": "9b-Q7XY46p9K",
        "colab_type": "code",
        "colab": {}
      },
      "source": [
        "from pickle import load\n",
        "from pickle import dump\n",
        "from numpy.random import rand\n",
        "from numpy.random import shuffle\n"
      ],
      "execution_count": 0,
      "outputs": []
    },
    {
      "cell_type": "code",
      "metadata": {
        "id": "txw77y9X6-dr",
        "colab_type": "code",
        "colab": {}
      },
      "source": [
        "# load a clean dataset\n",
        "def load_clean_sentences(filename):\n",
        "\treturn load(open(filename, 'rb'))\n",
        "\n",
        "# save a list of clean sentences to file\n",
        "def save_clean_data(sentences, filename):\n",
        "\tdump(sentences, open(filename, 'wb'))\n",
        "\tprint('Saved: %s' % filename)\n"
      ],
      "execution_count": 0,
      "outputs": []
    },
    {
      "cell_type": "code",
      "metadata": {
        "id": "4uPs09IQ7Afs",
        "colab_type": "code",
        "outputId": "9a360a52-9c72-441f-e9ac-673ae41bfafa",
        "colab": {
          "base_uri": "https://localhost:8080/",
          "height": 70
        }
      },
      "source": [
        "raw_dataset = load_clean_sentences('english-hindi.pkl')\n",
        "\n",
        "# reduce dataset size\n",
        "n_sentences = 10000\n",
        "#n_sentences=50000\n",
        "dataset = raw_dataset[:n_sentences, :]\n",
        "# random shuffle\n",
        "shuffle(dataset)\n",
        "# split into train/test\n",
        "train, test = dataset[:7000], dataset[7000:]\n",
        "#train, test = dataset[:45000], dataset[45000:]\n",
        "# save\n",
        "save_clean_data(dataset, 'english-hindi-both.pkl')\n",
        "save_clean_data(train, 'english-hindi-train.pkl')\n",
        "save_clean_data(test, 'english-hindi-test.pkl')"
      ],
      "execution_count": 0,
      "outputs": [
        {
          "output_type": "stream",
          "text": [
            "Saved: english-hindi-both.pkl\n",
            "Saved: english-hindi-train.pkl\n",
            "Saved: english-hindi-test.pkl\n"
          ],
          "name": "stdout"
        }
      ]
    },
    {
      "cell_type": "code",
      "metadata": {
        "id": "zZ0-XMGh7LEm",
        "colab_type": "code",
        "outputId": "55c5c5f4-b7c5-49eb-b414-0a6de0073d55",
        "colab": {
          "base_uri": "https://localhost:8080/",
          "height": 98
        }
      },
      "source": [
        "from pickle import load\n",
        "from numpy import array\n",
        "from keras.preprocessing.text import Tokenizer\n",
        "from keras.preprocessing.sequence import pad_sequences\n",
        "from keras.utils import to_categorical\n",
        "from keras.utils.vis_utils import plot_model\n",
        "from keras.models import Sequential\n",
        "from keras.layers import LSTM\n",
        "from keras.layers import Dense\n",
        "from keras.layers import Embedding\n",
        "from keras.layers import RepeatVector\n",
        "from keras.layers import TimeDistributed\n",
        "from keras.callbacks import ModelCheckpoint\n"
      ],
      "execution_count": 0,
      "outputs": [
        {
          "output_type": "stream",
          "text": [
            "Using TensorFlow backend.\n"
          ],
          "name": "stderr"
        },
        {
          "output_type": "display_data",
          "data": {
            "text/html": [
              "<p style=\"color: red;\">\n",
              "The default version of TensorFlow in Colab will soon switch to TensorFlow 2.x.<br>\n",
              "We recommend you <a href=\"https://www.tensorflow.org/guide/migrate\" target=\"_blank\">upgrade</a> now \n",
              "or ensure your notebook will continue to use TensorFlow 1.x via the <code>%tensorflow_version 1.x</code> magic:\n",
              "<a href=\"https://colab.research.google.com/notebooks/tensorflow_version.ipynb\" target=\"_blank\">more info</a>.</p>\n"
            ],
            "text/plain": [
              "<IPython.core.display.HTML object>"
            ]
          },
          "metadata": {
            "tags": []
          }
        }
      ]
    },
    {
      "cell_type": "code",
      "metadata": {
        "id": "1iZ8rTUA7P0H",
        "colab_type": "code",
        "colab": {}
      },
      "source": [
        "# load a clean dataset\n",
        "def load_clean_sentences(filename):\n",
        "\treturn load(open(filename, 'rb'))\n",
        "\n",
        "# fit a tokenizer\n",
        "def create_tokenizer(lines):\n",
        "\ttokenizer = Tokenizer()\n",
        "\ttokenizer.fit_on_texts(lines)\n",
        "\treturn tokenizer\n",
        "\n",
        "# max sentence length\n",
        "def max_length(lines):\n",
        "\treturn max(len(line.split()) for line in lines)\n",
        "\n",
        "# encode and pad sequences\n",
        "def encode_sequences(tokenizer, length, lines):\n",
        "\t# integer encode sequences\n",
        "\tX = tokenizer.texts_to_sequences(lines)\n",
        "\t# pad sequences with 0 values\n",
        "\tX = pad_sequences(X, maxlen=length, padding='post')\n",
        "\treturn X\n"
      ],
      "execution_count": 0,
      "outputs": []
    },
    {
      "cell_type": "code",
      "metadata": {
        "id": "1e9XOh2-7TpM",
        "colab_type": "code",
        "colab": {}
      },
      "source": [
        "# one hot encode target sequence\n",
        "def encode_output(sequences, vocab_size):\n",
        "\tylist = list()\n",
        "\tfor sequence in sequences:\n",
        "\t\tencoded = to_categorical(sequence, num_classes=vocab_size)\n",
        "\t\tylist.append(encoded)\n",
        "\ty = array(ylist)\n",
        "\ty = y.reshape(sequences.shape[0], sequences.shape[1], vocab_size)\n",
        "\treturn y\n"
      ],
      "execution_count": 0,
      "outputs": []
    },
    {
      "cell_type": "code",
      "metadata": {
        "id": "2A5NV4v17Vy_",
        "colab_type": "code",
        "colab": {}
      },
      "source": [
        "# define NMT model\n",
        "def define_model(src_vocab, tar_vocab, src_timesteps, tar_timesteps, n_units):\n",
        "\tmodel = Sequential()\n",
        "\tmodel.add(Embedding(src_vocab, n_units, input_length=src_timesteps, mask_zero=True))\n",
        "\tmodel.add(LSTM(n_units))\n",
        "\tmodel.add(RepeatVector(tar_timesteps))\n",
        "\tmodel.add(LSTM(n_units, return_sequences=True))\n",
        "\tmodel.add(TimeDistributed(Dense(tar_vocab, activation='softmax')))\n",
        "\treturn model\n"
      ],
      "execution_count": 0,
      "outputs": []
    },
    {
      "cell_type": "code",
      "metadata": {
        "id": "-BSHgPiG7Xgr",
        "colab_type": "code",
        "colab": {}
      },
      "source": [
        "# load datasets\n",
        "dataset = load_clean_sentences('english-hindi-both.pkl')\n",
        "train = load_clean_sentences('english-hindi-train.pkl')\n",
        "test = load_clean_sentences('english-hindi-test.pkl')\n"
      ],
      "execution_count": 0,
      "outputs": []
    },
    {
      "cell_type": "code",
      "metadata": {
        "id": "0pE1CJ6f7ZmG",
        "colab_type": "code",
        "outputId": "b839868d-0626-4f07-94cc-2581f703a799",
        "colab": {
          "base_uri": "https://localhost:8080/",
          "height": 87
        }
      },
      "source": [
        "# prepare english tokenizer\n",
        "eng_tokenizer = create_tokenizer(dataset[:, 0])\n",
        "eng_vocab_size = len(eng_tokenizer.word_index) + 1\n",
        "eng_length = max_length(dataset[:, 0])\n",
        "print('English Vocabulary Size: %d' % eng_vocab_size)\n",
        "print('English Max Length: %d' % (eng_length))\n",
        "# prepare Hindi tokenizer\n",
        "hin_tokenizer = create_tokenizer(dataset[:, 1])\n",
        "hin_vocab_size = len(hin_tokenizer.word_index) + 1\n",
        "hin_length = max_length(dataset[:, 1])\n",
        "print('Hindi Vocabulary Size: %d' % hin_vocab_size)\n",
        "print('Hindi Max Length: %d' % (hin_length))\n"
      ],
      "execution_count": 0,
      "outputs": [
        {
          "output_type": "stream",
          "text": [
            "English Vocabulary Size: 88\n",
            "English Max Length: 1871\n",
            "Hindi Vocabulary Size: 184\n",
            "Hindi Max Length: 1590\n"
          ],
          "name": "stdout"
        }
      ]
    },
    {
      "cell_type": "code",
      "metadata": {
        "id": "ENNGOJzB7chv",
        "colab_type": "code",
        "colab": {}
      },
      "source": [
        "# prepare training data\n",
        "trainX = encode_sequences(hin_tokenizer, hin_length, train[:, 1])\n",
        "trainY = encode_sequences(eng_tokenizer, eng_length, train[:, 0])\n",
        "trainY = encode_output(trainY, eng_vocab_size)\n",
        "# prepare validation data\n",
        "testX = encode_sequences(hin_tokenizer, hin_length, test[:, 1])\n",
        "testY = encode_sequences(eng_tokenizer, eng_length, test[:, 0])\n",
        "testY = encode_output(testY, eng_vocab_size)\n"
      ],
      "execution_count": 0,
      "outputs": []
    },
    {
      "cell_type": "code",
      "metadata": {
        "id": "r6LNIcJj7fQF",
        "colab_type": "code",
        "outputId": "ea2d074e-e2d9-45f5-d5d9-06ce750dc93e",
        "colab": {
          "base_uri": "https://localhost:8080/",
          "height": 266
        }
      },
      "source": [
        "\n",
        "# define model\n",
        "model = define_model(hin_vocab_size, eng_vocab_size, hin_length, eng_length, 256)\n",
        "model.compile(optimizer='adam', loss='categorical_crossentropy')\n"
      ],
      "execution_count": 0,
      "outputs": [
        {
          "output_type": "stream",
          "text": [
            "WARNING:tensorflow:From /usr/local/lib/python3.6/dist-packages/keras/backend/tensorflow_backend.py:66: The name tf.get_default_graph is deprecated. Please use tf.compat.v1.get_default_graph instead.\n",
            "\n",
            "WARNING:tensorflow:From /usr/local/lib/python3.6/dist-packages/keras/backend/tensorflow_backend.py:541: The name tf.placeholder is deprecated. Please use tf.compat.v1.placeholder instead.\n",
            "\n",
            "WARNING:tensorflow:From /usr/local/lib/python3.6/dist-packages/keras/backend/tensorflow_backend.py:4432: The name tf.random_uniform is deprecated. Please use tf.random.uniform instead.\n",
            "\n",
            "WARNING:tensorflow:From /usr/local/lib/python3.6/dist-packages/keras/backend/tensorflow_backend.py:3239: where (from tensorflow.python.ops.array_ops) is deprecated and will be removed in a future version.\n",
            "Instructions for updating:\n",
            "Use tf.where in 2.0, which has the same broadcast rule as np.where\n",
            "WARNING:tensorflow:From /usr/local/lib/python3.6/dist-packages/keras/optimizers.py:793: The name tf.train.Optimizer is deprecated. Please use tf.compat.v1.train.Optimizer instead.\n",
            "\n",
            "WARNING:tensorflow:From /usr/local/lib/python3.6/dist-packages/keras/backend/tensorflow_backend.py:3576: The name tf.log is deprecated. Please use tf.math.log instead.\n",
            "\n"
          ],
          "name": "stdout"
        }
      ]
    },
    {
      "cell_type": "code",
      "metadata": {
        "id": "0VXWjczs8RDL",
        "colab_type": "code",
        "outputId": "c264b27a-85b2-4e41-e279-9993672c0bd9",
        "colab": {
          "base_uri": "https://localhost:8080/",
          "height": 351
        }
      },
      "source": [
        "# summarize defined model\n",
        "print(model.summary())"
      ],
      "execution_count": 0,
      "outputs": [
        {
          "output_type": "stream",
          "text": [
            "Model: \"sequential_1\"\n",
            "_________________________________________________________________\n",
            "Layer (type)                 Output Shape              Param #   \n",
            "=================================================================\n",
            "embedding_1 (Embedding)      (None, 1590, 256)         47104     \n",
            "_________________________________________________________________\n",
            "lstm_1 (LSTM)                (None, 256)               525312    \n",
            "_________________________________________________________________\n",
            "repeat_vector_1 (RepeatVecto (None, 1871, 256)         0         \n",
            "_________________________________________________________________\n",
            "lstm_2 (LSTM)                (None, 1871, 256)         525312    \n",
            "_________________________________________________________________\n",
            "time_distributed_1 (TimeDist (None, 1871, 88)          22616     \n",
            "=================================================================\n",
            "Total params: 1,120,344\n",
            "Trainable params: 1,120,344\n",
            "Non-trainable params: 0\n",
            "_________________________________________________________________\n",
            "None\n"
          ],
          "name": "stdout"
        }
      ]
    },
    {
      "cell_type": "code",
      "metadata": {
        "id": "9Jv_LSea8Zq0",
        "colab_type": "code",
        "outputId": "19439431-baf4-486c-a1d3-589beb89f7e8",
        "colab": {
          "base_uri": "https://localhost:8080/",
          "height": 664
        }
      },
      "source": [
        "plot_model(model, to_file='model.png', show_shapes=True)"
      ],
      "execution_count": 0,
      "outputs": [
        {
          "output_type": "execute_result",
          "data": {
            "image/png": "[encoded data removed]",
            "text/plain": [
              "<IPython.core.display.Image object>"
            ]
          },
          "metadata": {
            "tags": []
          },
          "execution_count": 20
        }
      ]
    },
    {
      "cell_type": "code",
      "metadata": {
        "id": "sDPQNmPBEsR6",
        "colab_type": "code",
        "colab": {}
      },
      "source": [
        ""
      ],
      "execution_count": 0,
      "outputs": []
    },
    {
      "cell_type": "code",
      "metadata": {
        "id": "StDDDned8h9G",
        "colab_type": "code",
        "outputId": "259b13b6-bb11-40a0-c866-626da540857b",
        "colab": {
          "base_uri": "https://localhost:8080/",
          "height": 1000
        }
      },
      "source": [
        "# fit model\n",
        "import os\n",
        "import tensorflow as tf\n",
        "import keras\n",
        "'''\n",
        "filename = 'model.h5'\n",
        "checkpoint = ModelCheckpoint(filename, monitor='val_loss', verbose=1, save_best_only=True, mode='min')\n",
        "model.fit(trainX, trainY, epochs=15, batch_size=64, validation_data=(testX, testY), callbacks=[checkpoint], verbose=2)\n",
        "'''\n",
        "checkpoint_path = \"gdrive/My Drive/Neural Machine Translation/cp.ckpt\"\n",
        "checkpoint_dir = os.path.dirname(checkpoint_path)\n",
        "\n",
        "# Create checkpoint callback\n",
        "checkpoint = keras.callbacks.ModelCheckpoint(checkpoint_path,monitor='val_loss', verbose=1, save_best_only=True, mode='min' )\n",
        "                                                \n",
        "model.fit(trainX, trainY, epochs=15, batch_size=64, validation_data=(testX, testY), callbacks=[checkpoint], verbose=2)\n"
      ],
      "execution_count": 0,
      "outputs": [
        {
          "output_type": "stream",
          "text": [
            "Train on 7000 samples, validate on 2999 samples\n",
            "Epoch 1/15\n",
            " - 1017s - loss: 0.3098 - val_loss: 0.3169\n",
            "\n",
            "Epoch 00001: val_loss improved from inf to 0.31695, saving model to gdrive/My Drive/Neural Machine Translation/cp.ckpt\n",
            "Epoch 2/15\n",
            " - 1004s - loss: 0.3293 - val_loss: 0.3657\n",
            "\n",
            "Epoch 00002: val_loss did not improve from 0.31695\n",
            "Epoch 3/15\n",
            " - 1002s - loss: 0.3262 - val_loss: 0.3154\n",
            "\n",
            "Epoch 00003: val_loss improved from 0.31695 to 0.31540, saving model to gdrive/My Drive/Neural Machine Translation/cp.ckpt\n",
            "Epoch 4/15\n",
            " - 1003s - loss: 0.3188 - val_loss: 0.3170\n",
            "\n",
            "Epoch 00004: val_loss did not improve from 0.31540\n",
            "Epoch 5/15\n",
            " - 997s - loss: 0.3319 - val_loss: 0.3165\n",
            "\n",
            "Epoch 00005: val_loss did not improve from 0.31540\n",
            "Epoch 6/15\n",
            " - 1001s - loss: 0.3173 - val_loss: 0.3201\n",
            "\n",
            "Epoch 00006: val_loss did not improve from 0.31540\n",
            "Epoch 7/15\n",
            " - 995s - loss: 0.3190 - val_loss: 0.3179\n",
            "\n",
            "Epoch 00007: val_loss did not improve from 0.31540\n",
            "Epoch 8/15\n",
            " - 1000s - loss: 0.3200 - val_loss: 0.3169\n",
            "\n",
            "Epoch 00008: val_loss did not improve from 0.31540\n",
            "Epoch 9/15\n",
            " - 1002s - loss: 0.3180 - val_loss: 0.3170\n",
            "\n",
            "Epoch 00009: val_loss did not improve from 0.31540\n",
            "Epoch 10/15\n",
            " - 1005s - loss: 0.3183 - val_loss: 0.3171\n",
            "\n",
            "Epoch 00010: val_loss did not improve from 0.31540\n",
            "Epoch 11/15\n"
          ],
          "name": "stdout"
        },
        {
          "output_type": "error",
          "ename": "KeyboardInterrupt",
          "evalue": "ignored",
          "traceback": [
            "\u001b[0;31m---------------------------------------------------------------------------\u001b[0m",
            "\u001b[0;31mKeyboardInterrupt\u001b[0m                         Traceback (most recent call last)",
            "\u001b[0;32m<ipython-input-22-bea3db6f1cbf>\u001b[0m in \u001b[0;36m<module>\u001b[0;34m()\u001b[0m\n\u001b[1;32m     13\u001b[0m \u001b[0mcheckpoint\u001b[0m \u001b[0;34m=\u001b[0m \u001b[0mkeras\u001b[0m\u001b[0;34m.\u001b[0m\u001b[0mcallbacks\u001b[0m\u001b[0;34m.\u001b[0m\u001b[0mModelCheckpoint\u001b[0m\u001b[0;34m(\u001b[0m\u001b[0mcheckpoint_path\u001b[0m\u001b[0;34m,\u001b[0m\u001b[0mmonitor\u001b[0m\u001b[0;34m=\u001b[0m\u001b[0;34m'val_loss'\u001b[0m\u001b[0;34m,\u001b[0m \u001b[0mverbose\u001b[0m\u001b[0;34m=\u001b[0m\u001b[0;36m1\u001b[0m\u001b[0;34m,\u001b[0m \u001b[0msave_best_only\u001b[0m\u001b[0;34m=\u001b[0m\u001b[0;32mTrue\u001b[0m\u001b[0;34m,\u001b[0m \u001b[0mmode\u001b[0m\u001b[0;34m=\u001b[0m\u001b[0;34m'min'\u001b[0m \u001b[0;34m)\u001b[0m\u001b[0;34m\u001b[0m\u001b[0;34m\u001b[0m\u001b[0m\n\u001b[1;32m     14\u001b[0m \u001b[0;34m\u001b[0m\u001b[0m\n\u001b[0;32m---> 15\u001b[0;31m \u001b[0mmodel\u001b[0m\u001b[0;34m.\u001b[0m\u001b[0mfit\u001b[0m\u001b[0;34m(\u001b[0m\u001b[0mtrainX\u001b[0m\u001b[0;34m,\u001b[0m \u001b[0mtrainY\u001b[0m\u001b[0;34m,\u001b[0m \u001b[0mepochs\u001b[0m\u001b[0;34m=\u001b[0m\u001b[0;36m15\u001b[0m\u001b[0;34m,\u001b[0m \u001b[0mbatch_size\u001b[0m\u001b[0;34m=\u001b[0m\u001b[0;36m64\u001b[0m\u001b[0;34m,\u001b[0m \u001b[0mvalidation_data\u001b[0m\u001b[0;34m=\u001b[0m\u001b[0;34m(\u001b[0m\u001b[0mtestX\u001b[0m\u001b[0;34m,\u001b[0m \u001b[0mtestY\u001b[0m\u001b[0;34m)\u001b[0m\u001b[0;34m,\u001b[0m \u001b[0mcallbacks\u001b[0m\u001b[0;34m=\u001b[0m\u001b[0;34m[\u001b[0m\u001b[0mcheckpoint\u001b[0m\u001b[0;34m]\u001b[0m\u001b[0;34m,\u001b[0m \u001b[0mverbose\u001b[0m\u001b[0;34m=\u001b[0m\u001b[0;36m2\u001b[0m\u001b[0;34m)\u001b[0m\u001b[0;34m\u001b[0m\u001b[0;34m\u001b[0m\u001b[0m\n\u001b[0m",
            "\u001b[0;32m/usr/local/lib/python3.6/dist-packages/keras/engine/training.py\u001b[0m in \u001b[0;36mfit\u001b[0;34m(self, x, y, batch_size, epochs, verbose, callbacks, validation_split, validation_data, shuffle, class_weight, sample_weight, initial_epoch, steps_per_epoch, validation_steps, validation_freq, max_queue_size, workers, use_multiprocessing, **kwargs)\u001b[0m\n\u001b[1;32m   1176\u001b[0m                                         \u001b[0msteps_per_epoch\u001b[0m\u001b[0;34m=\u001b[0m\u001b[0msteps_per_epoch\u001b[0m\u001b[0;34m,\u001b[0m\u001b[0;34m\u001b[0m\u001b[0;34m\u001b[0m\u001b[0m\n\u001b[1;32m   1177\u001b[0m                                         \u001b[0mvalidation_steps\u001b[0m\u001b[0;34m=\u001b[0m\u001b[0mvalidation_steps\u001b[0m\u001b[0;34m,\u001b[0m\u001b[0;34m\u001b[0m\u001b[0;34m\u001b[0m\u001b[0m\n\u001b[0;32m-> 1178\u001b[0;31m                                         validation_freq=validation_freq)\n\u001b[0m\u001b[1;32m   1179\u001b[0m \u001b[0;34m\u001b[0m\u001b[0m\n\u001b[1;32m   1180\u001b[0m     def evaluate(self,\n",
            "\u001b[0;32m/usr/local/lib/python3.6/dist-packages/keras/engine/training_arrays.py\u001b[0m in \u001b[0;36mfit_loop\u001b[0;34m(model, fit_function, fit_inputs, out_labels, batch_size, epochs, verbose, callbacks, val_function, val_inputs, shuffle, callback_metrics, initial_epoch, steps_per_epoch, validation_steps, validation_freq)\u001b[0m\n\u001b[1;32m    202\u001b[0m                     \u001b[0mins_batch\u001b[0m\u001b[0;34m[\u001b[0m\u001b[0mi\u001b[0m\u001b[0;34m]\u001b[0m \u001b[0;34m=\u001b[0m \u001b[0mins_batch\u001b[0m\u001b[0;34m[\u001b[0m\u001b[0mi\u001b[0m\u001b[0;34m]\u001b[0m\u001b[0;34m.\u001b[0m\u001b[0mtoarray\u001b[0m\u001b[0;34m(\u001b[0m\u001b[0;34m)\u001b[0m\u001b[0;34m\u001b[0m\u001b[0;34m\u001b[0m\u001b[0m\n\u001b[1;32m    203\u001b[0m \u001b[0;34m\u001b[0m\u001b[0m\n\u001b[0;32m--> 204\u001b[0;31m                 \u001b[0mouts\u001b[0m \u001b[0;34m=\u001b[0m \u001b[0mfit_function\u001b[0m\u001b[0;34m(\u001b[0m\u001b[0mins_batch\u001b[0m\u001b[0;34m)\u001b[0m\u001b[0;34m\u001b[0m\u001b[0;34m\u001b[0m\u001b[0m\n\u001b[0m\u001b[1;32m    205\u001b[0m                 \u001b[0mouts\u001b[0m \u001b[0;34m=\u001b[0m \u001b[0mto_list\u001b[0m\u001b[0;34m(\u001b[0m\u001b[0mouts\u001b[0m\u001b[0;34m)\u001b[0m\u001b[0;34m\u001b[0m\u001b[0;34m\u001b[0m\u001b[0m\n\u001b[1;32m    206\u001b[0m                 \u001b[0;32mfor\u001b[0m \u001b[0ml\u001b[0m\u001b[0;34m,\u001b[0m \u001b[0mo\u001b[0m \u001b[0;32min\u001b[0m \u001b[0mzip\u001b[0m\u001b[0;34m(\u001b[0m\u001b[0mout_labels\u001b[0m\u001b[0;34m,\u001b[0m \u001b[0mouts\u001b[0m\u001b[0;34m)\u001b[0m\u001b[0;34m:\u001b[0m\u001b[0;34m\u001b[0m\u001b[0;34m\u001b[0m\u001b[0m\n",
            "\u001b[0;32m/usr/local/lib/python3.6/dist-packages/keras/backend/tensorflow_backend.py\u001b[0m in \u001b[0;36m__call__\u001b[0;34m(self, inputs)\u001b[0m\n\u001b[1;32m   2977\u001b[0m                     \u001b[0;32mreturn\u001b[0m \u001b[0mself\u001b[0m\u001b[0;34m.\u001b[0m\u001b[0m_legacy_call\u001b[0m\u001b[0;34m(\u001b[0m\u001b[0minputs\u001b[0m\u001b[0;34m)\u001b[0m\u001b[0;34m\u001b[0m\u001b[0;34m\u001b[0m\u001b[0m\n\u001b[1;32m   2978\u001b[0m \u001b[0;34m\u001b[0m\u001b[0m\n\u001b[0;32m-> 2979\u001b[0;31m             \u001b[0;32mreturn\u001b[0m \u001b[0mself\u001b[0m\u001b[0;34m.\u001b[0m\u001b[0m_call\u001b[0m\u001b[0;34m(\u001b[0m\u001b[0minputs\u001b[0m\u001b[0;34m)\u001b[0m\u001b[0;34m\u001b[0m\u001b[0;34m\u001b[0m\u001b[0m\n\u001b[0m\u001b[1;32m   2980\u001b[0m         \u001b[0;32melse\u001b[0m\u001b[0;34m:\u001b[0m\u001b[0;34m\u001b[0m\u001b[0;34m\u001b[0m\u001b[0m\n\u001b[1;32m   2981\u001b[0m             \u001b[0;32mif\u001b[0m \u001b[0mpy_any\u001b[0m\u001b[0;34m(\u001b[0m\u001b[0mis_tensor\u001b[0m\u001b[0;34m(\u001b[0m\u001b[0mx\u001b[0m\u001b[0;34m)\u001b[0m \u001b[0;32mfor\u001b[0m \u001b[0mx\u001b[0m \u001b[0;32min\u001b[0m \u001b[0minputs\u001b[0m\u001b[0;34m)\u001b[0m\u001b[0;34m:\u001b[0m\u001b[0;34m\u001b[0m\u001b[0;34m\u001b[0m\u001b[0m\n",
            "\u001b[0;32m/usr/local/lib/python3.6/dist-packages/keras/backend/tensorflow_backend.py\u001b[0m in \u001b[0;36m_call\u001b[0;34m(self, inputs)\u001b[0m\n\u001b[1;32m   2935\u001b[0m             \u001b[0mfetched\u001b[0m \u001b[0;34m=\u001b[0m \u001b[0mself\u001b[0m\u001b[0;34m.\u001b[0m\u001b[0m_callable_fn\u001b[0m\u001b[0;34m(\u001b[0m\u001b[0;34m*\u001b[0m\u001b[0marray_vals\u001b[0m\u001b[0;34m,\u001b[0m \u001b[0mrun_metadata\u001b[0m\u001b[0;34m=\u001b[0m\u001b[0mself\u001b[0m\u001b[0;34m.\u001b[0m\u001b[0mrun_metadata\u001b[0m\u001b[0;34m)\u001b[0m\u001b[0;34m\u001b[0m\u001b[0;34m\u001b[0m\u001b[0m\n\u001b[1;32m   2936\u001b[0m         \u001b[0;32melse\u001b[0m\u001b[0;34m:\u001b[0m\u001b[0;34m\u001b[0m\u001b[0;34m\u001b[0m\u001b[0m\n\u001b[0;32m-> 2937\u001b[0;31m             \u001b[0mfetched\u001b[0m \u001b[0;34m=\u001b[0m \u001b[0mself\u001b[0m\u001b[0;34m.\u001b[0m\u001b[0m_callable_fn\u001b[0m\u001b[0;34m(\u001b[0m\u001b[0;34m*\u001b[0m\u001b[0marray_vals\u001b[0m\u001b[0;34m)\u001b[0m\u001b[0;34m\u001b[0m\u001b[0;34m\u001b[0m\u001b[0m\n\u001b[0m\u001b[1;32m   2938\u001b[0m         \u001b[0;32mreturn\u001b[0m \u001b[0mfetched\u001b[0m\u001b[0;34m[\u001b[0m\u001b[0;34m:\u001b[0m\u001b[0mlen\u001b[0m\u001b[0;34m(\u001b[0m\u001b[0mself\u001b[0m\u001b[0;34m.\u001b[0m\u001b[0moutputs\u001b[0m\u001b[0;34m)\u001b[0m\u001b[0;34m]\u001b[0m\u001b[0;34m\u001b[0m\u001b[0;34m\u001b[0m\u001b[0m\n\u001b[1;32m   2939\u001b[0m \u001b[0;34m\u001b[0m\u001b[0m\n",
            "\u001b[0;32m/usr/local/lib/python3.6/dist-packages/tensorflow_core/python/client/session.py\u001b[0m in \u001b[0;36m__call__\u001b[0;34m(self, *args, **kwargs)\u001b[0m\n\u001b[1;32m   1470\u001b[0m         ret = tf_session.TF_SessionRunCallable(self._session._session,\n\u001b[1;32m   1471\u001b[0m                                                \u001b[0mself\u001b[0m\u001b[0;34m.\u001b[0m\u001b[0m_handle\u001b[0m\u001b[0;34m,\u001b[0m \u001b[0margs\u001b[0m\u001b[0;34m,\u001b[0m\u001b[0;34m\u001b[0m\u001b[0;34m\u001b[0m\u001b[0m\n\u001b[0;32m-> 1472\u001b[0;31m                                                run_metadata_ptr)\n\u001b[0m\u001b[1;32m   1473\u001b[0m         \u001b[0;32mif\u001b[0m \u001b[0mrun_metadata\u001b[0m\u001b[0;34m:\u001b[0m\u001b[0;34m\u001b[0m\u001b[0;34m\u001b[0m\u001b[0m\n\u001b[1;32m   1474\u001b[0m           \u001b[0mproto_data\u001b[0m \u001b[0;34m=\u001b[0m \u001b[0mtf_session\u001b[0m\u001b[0;34m.\u001b[0m\u001b[0mTF_GetBuffer\u001b[0m\u001b[0;34m(\u001b[0m\u001b[0mrun_metadata_ptr\u001b[0m\u001b[0;34m)\u001b[0m\u001b[0;34m\u001b[0m\u001b[0;34m\u001b[0m\u001b[0m\n",
            "\u001b[0;31mKeyboardInterrupt\u001b[0m: "
          ]
        }
      ]
    },
    {
      "cell_type": "code",
      "metadata": {
        "id": "ZHa6uT3B8xls",
        "colab_type": "code",
        "colab": {}
      },
      "source": [
        "import numpy\n",
        "from pickle import load\n",
        "from numpy import array\n",
        "from numpy import argmax\n",
        "from keras.preprocessing.text import Tokenizer\n",
        "from keras.preprocessing.sequence import pad_sequences\n",
        "from keras.models import load_model\n",
        "from nltk.translate.bleu_score import corpus_bleu\n"
      ],
      "execution_count": 0,
      "outputs": []
    },
    {
      "cell_type": "code",
      "metadata": {
        "id": "8UB212ywRjOB",
        "colab_type": "code",
        "colab": {}
      },
      "source": [
        "# load a clean dataset\n",
        "def load_clean_sentences(filename):\n",
        "\treturn load(open(filename, 'rb'))\n",
        "\n",
        "# fit a tokenizer\n",
        "def create_tokenizer(lines):\n",
        "\ttokenizer = Tokenizer()\n",
        "\ttokenizer.fit_on_texts(lines)\n",
        "\treturn tokenizer\n",
        "\n",
        "# max sentence length\n",
        "def max_length(lines):\n",
        "\treturn max(len(line.split()) for line in lines)\n",
        "\n",
        "# encode and pad sequences\n",
        "def encode_sequences(tokenizer, length, lines):\n",
        "\t# integer encode sequences\n",
        "\tX = tokenizer.texts_to_sequences(lines)\n",
        "\t# pad sequences with 0 values\n",
        "\tX = pad_sequences(X, maxlen=length, padding='post')\n",
        "\treturn X\n"
      ],
      "execution_count": 0,
      "outputs": []
    },
    {
      "cell_type": "code",
      "metadata": {
        "id": "2uhp_4cRRsrd",
        "colab_type": "code",
        "colab": {}
      },
      "source": [
        "# map an integer to a word\n",
        "def word_for_id(integer, tokenizer):\n",
        "\tfor word, index in tokenizer.word_index.items():\n",
        "\t\tif index == integer:\n",
        "\t\t\treturn word\n",
        "\treturn None\n",
        "\n",
        "# generate target given source sequence\n",
        "def predict_sequence(model, tokenizer, source):\n",
        "\tprediction = model.predict(source, verbose=0)[0]\n",
        "\tintegers = [argmax(vector) for vector in prediction]\n",
        "\ttarget = list()\n",
        "\tfor i in integers:\n",
        "\t\tword = word_for_id(i, tokenizer)\n",
        "\t\tif word is None:\n",
        "\t\t\tbreak\n",
        "\t\ttarget.append(word)\n",
        "\treturn ' '.join(target)\n"
      ],
      "execution_count": 0,
      "outputs": []
    },
    {
      "cell_type": "code",
      "metadata": {
        "id": "QpZPWlGHRvxB",
        "colab_type": "code",
        "colab": {}
      },
      "source": [
        "\n",
        "# evaluate the skill of the model\n",
        "def evaluate_model(model, tokenizer, sources, raw_dataset):\n",
        "    temp_dataset=raw_dataset\n",
        "    numpy.delete(temp_dataset,2,axis=1)\n",
        "    print(temp_dataset)\n",
        "    actual, predicted = list(), list()\n",
        "    for i, source in enumerate(sources):\n",
        "\t\t# translate encoded source text\n",
        "        source = source.reshape((1, source.shape[0]))\n",
        "        translation = predict_sequence(model, eng_tokenizer, source)\n",
        "        #(raw_dataset)\n",
        "        #raw_target, raw_src = temp_dataset[i]\n",
        "        raw_target=temp_dataset[i][0]\n",
        "        raw_src=temp_dataset[i][1]\n",
        "        if i < 100:\n",
        "            print('src=[%s], target=[%s], predicted=[%s]' % (raw_src, raw_target, translation))\n",
        "        actual.append([raw_target.split()])\n",
        "        predicted.append(translation.split())\n",
        "\t# calculate BLEU score\n",
        "    print('BLEU-1: %f' % corpus_bleu(actual, predicted, weights=(1.0, 0, 0, 0)))\n",
        "    print('BLEU-2: %f' % corpus_bleu(actual, predicted, weights=(0.5, 0.5, 0, 0)))\n",
        "    print('BLEU-3: %f' % corpus_bleu(actual, predicted, weights=(0.3, 0.3, 0.3, 0)))\n",
        "    print('BLEU-4: %f' % corpus_bleu(actual, predicted, weights=(0.25, 0.25, 0.25, 0.25)))\n"
      ],
      "execution_count": 0,
      "outputs": []
    },
    {
      "cell_type": "code",
      "metadata": {
        "id": "iuDUUzSVRyst",
        "colab_type": "code",
        "colab": {}
      },
      "source": [
        "model = load_model('gdrive/My Drive/Neural Machine Translation/cp.ckpt')"
      ],
      "execution_count": 0,
      "outputs": []
    },
    {
      "cell_type": "code",
      "metadata": {
        "id": "Kb6QYB9aR4gX",
        "colab_type": "code",
        "outputId": "66a464e3-9a08-4c80-dd33-d74d942f3cdb",
        "colab": {
          "base_uri": "https://localhost:8080/",
          "height": 266
        }
      },
      "source": [
        "print(train)"
      ],
      "execution_count": 0,
      "outputs": [
        {
          "output_type": "stream",
          "text": [
            "[[\"T h e   d u t y   o f   p u b l i c   m e n   o f   s t a n d i n g   i s   ,   a s   I   h a v e   m a d e   i t   c l e a r   t o   C o n g r e s s m e n   v i s i t i n g   m e   '   w i t h   s u c h   v a g u e   i m p u t a t i o n s   ,   t o   e x p o s e   s u c h   m e n   a n d   t o   l e a d   c o n c r e t e   e v i d e n c e   t o   p r o v e   t h e i r   c o n t e n t i o n s   .\"\n",
            "  'प ् र त ि ष ् ठ ि त   ज न स े व क ो ं   क ा   क र ् त व ् य   य ह   ह ै   ,   ज ै स ा   क ि   म ै ं न े   अ प न े   प ा स   ऐ स े   अ स ् प ष ् ट   अ र ो प ो ं   क े   स ा थ   आ न े   व ा ल े   क ा ं ग ् र े स   -   ज न ो ं   स े   स ् प ष ् ट   क ह ा   ह ै   क ि   व े   ऐ स े   आ द म ि य ो ं   क ा   भ ं ड ़ ा फ ो ड ़   क र े ं   औ र   अ प न े   आ र ो प ो ं   क ो   स ि द ् ध   क र न े   क े   ल ि ए   ठ ो स   स ब ू त   प े श   क र े ं   ।  ']\n",
            " ['A u t h e n t i c a t i o n   f a i l e d   f o r   a c c o u n t   %   s   .'\n",
            "  'ख ा त ा   क े   ल ि ए   स त ् य ा प न   अ स फ ल']\n",
            " ['S i n c e   a t t a c h m e n t   a n d   t h e   p o s t i n g   w a s   a t   D e l h i   ,   t h e   r e s p o n d e n t s   h a d   n o   p r o b l e m   i n   r e l e a s i n g   H R A   a n d   C C A   t o   t h e   p e t i t i o n e r   a s   p e r   R u l e s   a p p l i c a b l e   .'\n",
            "  'च ू ं क ि   न ि य ु क ् त ि   औ र   त ै न ा त ी   द ि ल ् ल ी   म े ं   थ ी   ,   प ् र त ् य र ् थ ि य ो ं   क ो   य ा च ी   क े   ल ि ए   ,   ल ा ग ू   न ि य म ो ं   क े   अ न ु स ा र   ,   ए च आ र ए   औ र   स ी स ी ए   न ि र व र ो ध   क र न े   म े ं   क ो ई   स म स ् य ा   न ह ी ं   थ ी   .  ']\n",
            " ...\n",
            " ['L o c a l   u s e r   c l e a r e d   t h e   c a l l   .'\n",
            "  'स ् थ ा न ी य   प ् र य ो क ् त ा   न े   क ॉ ल   क ो   ज ा न े   द ि य ा']\n",
            " ['M y   f a i t h   h e l p s   m e   o v e r c o m e   s u c h   n e g a t i v e   e m o t i o n s   a n d   f i n d   m y   e q u i l i b r i u m   .'\n",
            "  'म े र ा   व ि श ् व ा स   ह ी   म ु झ े   न क ा र ा त ् म क   भ ा व न ा ओ ं   प र   क ा ब ू   प ा न े   औ र   अ प न े   स ं त ु ल न   क ो   ख ो ज न े   म े ं   म द द   क र त ा   ह ै   ।  ']\n",
            " ['H e   w a s   t h u s   f o r c e d   ,   a s   m u c h   b y   o u t e r   c i r c u m s t a n c e s   a s   b y   a n   i n n e r   n e c e s s i t y   ,   t o   s t a n d   a l o n e   ,   t o   r e l y   e n t i r e l y   o n   h i s   i n n e r   r e s o u r c e s   ,   t o   s t a n d   f a c e   t o   f a c e   w i t h   G o d   .'\n",
            "  'औ र   इ स   प ् र क ा र   ब ा ह ् य   प र ि स ् थ ि त ि य ो ं   क े   स ा थ   स ा थ   आ ं त र ि क   अ न ि व ा र ् य त ा   क े   स ा म न े   अ प न े   आ ं त र ि क   स ं स ा ध न ो ं   प र   ह ी   व े   प ू र ी   त र ह   न ि र ् भ र   अ क े ल े   ख ड ़ े   र ह े   -   -   अ प न े   प र म ा त ् म ा   क े   स ं व ा द   क ा य म   र ख त े   ह ु ए   ।  ']]\n"
          ],
          "name": "stdout"
        }
      ]
    },
    {
      "cell_type": "code",
      "metadata": {
        "id": "wroVQ-aWhFeA",
        "colab_type": "code",
        "outputId": "5bdb9e19-e1bf-43f7-a64f-b829b181c9f4",
        "colab": {
          "base_uri": "https://localhost:8080/",
          "height": 370
        }
      },
      "source": [
        "evaluate_model(model, eng_tokenizer, trainX, train)"
      ],
      "execution_count": 0,
      "outputs": [
        {
          "output_type": "error",
          "ename": "IndexError",
          "evalue": "ignored",
          "traceback": [
            "\u001b[0;31m---------------------------------------------------------------------------\u001b[0m",
            "\u001b[0;31mIndexError\u001b[0m                                Traceback (most recent call last)",
            "\u001b[0;32m<ipython-input-35-c2eacbc6c4e7>\u001b[0m in \u001b[0;36m<module>\u001b[0;34m()\u001b[0m\n\u001b[0;32m----> 1\u001b[0;31m \u001b[0mevaluate_model\u001b[0m\u001b[0;34m(\u001b[0m\u001b[0mmodel\u001b[0m\u001b[0;34m,\u001b[0m \u001b[0meng_tokenizer\u001b[0m\u001b[0;34m,\u001b[0m \u001b[0mtrainX\u001b[0m\u001b[0;34m,\u001b[0m \u001b[0mtrain\u001b[0m\u001b[0;34m)\u001b[0m\u001b[0;34m\u001b[0m\u001b[0;34m\u001b[0m\u001b[0m\n\u001b[0m",
            "\u001b[0;32m<ipython-input-26-6e60b38cb032>\u001b[0m in \u001b[0;36mevaluate_model\u001b[0;34m(model, tokenizer, sources, raw_dataset)\u001b[0m\n\u001b[1;32m      1\u001b[0m \u001b[0;32mdef\u001b[0m \u001b[0mevaluate_model\u001b[0m\u001b[0;34m(\u001b[0m\u001b[0mmodel\u001b[0m\u001b[0;34m,\u001b[0m \u001b[0mtokenizer\u001b[0m\u001b[0;34m,\u001b[0m \u001b[0msources\u001b[0m\u001b[0;34m,\u001b[0m \u001b[0mraw_dataset\u001b[0m\u001b[0;34m)\u001b[0m\u001b[0;34m:\u001b[0m\u001b[0;34m\u001b[0m\u001b[0;34m\u001b[0m\u001b[0m\n\u001b[1;32m      2\u001b[0m     \u001b[0mtemp_dataset\u001b[0m\u001b[0;34m=\u001b[0m\u001b[0mraw_dataset\u001b[0m\u001b[0;34m\u001b[0m\u001b[0;34m\u001b[0m\u001b[0m\n\u001b[0;32m----> 3\u001b[0;31m     \u001b[0mnumpy\u001b[0m\u001b[0;34m.\u001b[0m\u001b[0mdelete\u001b[0m\u001b[0;34m(\u001b[0m\u001b[0mtemp_dataset\u001b[0m\u001b[0;34m,\u001b[0m\u001b[0;36m2\u001b[0m\u001b[0;34m,\u001b[0m\u001b[0maxis\u001b[0m\u001b[0;34m=\u001b[0m\u001b[0;36m1\u001b[0m\u001b[0;34m)\u001b[0m\u001b[0;34m\u001b[0m\u001b[0;34m\u001b[0m\u001b[0m\n\u001b[0m\u001b[1;32m      4\u001b[0m     \u001b[0mprint\u001b[0m\u001b[0;34m(\u001b[0m\u001b[0mtemp_dataset\u001b[0m\u001b[0;34m)\u001b[0m\u001b[0;34m\u001b[0m\u001b[0;34m\u001b[0m\u001b[0m\n\u001b[1;32m      5\u001b[0m     \u001b[0mactual\u001b[0m\u001b[0;34m,\u001b[0m \u001b[0mpredicted\u001b[0m \u001b[0;34m=\u001b[0m \u001b[0mlist\u001b[0m\u001b[0;34m(\u001b[0m\u001b[0;34m)\u001b[0m\u001b[0;34m,\u001b[0m \u001b[0mlist\u001b[0m\u001b[0;34m(\u001b[0m\u001b[0;34m)\u001b[0m\u001b[0;34m\u001b[0m\u001b[0;34m\u001b[0m\u001b[0m\n",
            "\u001b[0;32m<__array_function__ internals>\u001b[0m in \u001b[0;36mdelete\u001b[0;34m(*args, **kwargs)\u001b[0m\n",
            "\u001b[0;32m/usr/local/lib/python3.6/dist-packages/numpy/lib/function_base.py\u001b[0m in \u001b[0;36mdelete\u001b[0;34m(arr, obj, axis)\u001b[0m\n\u001b[1;32m   4380\u001b[0m             raise IndexError(\n\u001b[1;32m   4381\u001b[0m                 \u001b[0;34m\"index %i is out of bounds for axis %i with \"\u001b[0m\u001b[0;34m\u001b[0m\u001b[0;34m\u001b[0m\u001b[0m\n\u001b[0;32m-> 4382\u001b[0;31m                 \"size %i\" % (obj, axis, N))\n\u001b[0m\u001b[1;32m   4383\u001b[0m         \u001b[0;32mif\u001b[0m \u001b[0;34m(\u001b[0m\u001b[0mobj\u001b[0m \u001b[0;34m<\u001b[0m \u001b[0;36m0\u001b[0m\u001b[0;34m)\u001b[0m\u001b[0;34m:\u001b[0m\u001b[0;34m\u001b[0m\u001b[0;34m\u001b[0m\u001b[0m\n\u001b[1;32m   4384\u001b[0m             \u001b[0mobj\u001b[0m \u001b[0;34m+=\u001b[0m \u001b[0mN\u001b[0m\u001b[0;34m\u001b[0m\u001b[0;34m\u001b[0m\u001b[0m\n",
            "\u001b[0;31mIndexError\u001b[0m: index 2 is out of bounds for axis 1 with size 2"
          ]
        }
      ]
    },
    {
      "cell_type": "code",
      "metadata": {
        "id": "1hNJD70-hHHm",
        "colab_type": "code",
        "outputId": "a355ca7d-ec12-4a09-d425-af87f0b52640",
        "colab": {
          "base_uri": "https://localhost:8080/",
          "height": 266
        }
      },
      "source": [
        "print()"
      ],
      "execution_count": 0,
      "outputs": [
        {
          "output_type": "stream",
          "text": [
            "[[\"S A R D A R   T O   W A V E L L   ,   D A T E D   2 0   O C T O B E R   1 9 4 6   R a j a   G h a z a n f a r   A l i   K h a n   '   s   s p e e c h   c o p y   h e r e w i t h   -   S e r i a l   N o   .   2 0   i s   d i s c o n c e r t i n g   a n d   b o d e s   i l l   f o r   t h e   f u t u r e   .\"\n",
            "  '1 9   .   स र द ा र   क ा   प त ् र   ल ॉ र ् ड   व े व े ल   क ो   त ा   .   2 0   -   1 0   -   1 9 4 6   र ा ज ा   ग ज न फ र   अ ल ी   ख ा न   क ा   भ ा ष ण   ज ि स क ी   प ् र त ि   स ं ल ग ् न   ह ै   -   न ं   .   2 0   व ् य ा क ु ल   औ र   अ श ा ं त   ब न ा   द े न े   व ा ल ा   ह ै   औ र   अ श ु भ   भ व ि ष ् य   क ा   स ू च क   ह ै   ।  ']\n",
            " ['T h a t   w h i c h   W e   h a v e   r e v e a l e d   t o   y o u   o f   t h e   B o o k   i s   t h e   t r u t h   ,   c o n f i r m i n g   w h a t   w a s   b e f o r e   i t   .   I n d e e d   A l l a h   i s   a l l   -   a w a r e   ,   a l l   -   s e e i n g   a b o u t   H i s   s e r v a n t s   .'\n",
            "  \"औ र   ह म न े   ज ो   क ि त ा ब   त ु म ् ह ा र े   प ा स   '   '   व ह ी   '   '   क े   ज ़ र ि ए   स े   भ े ज ी   व ह   ब ि ल ् क ु ल   ठ ी क   ह ै   औ र   ज ो   उ स क े   स ा म न े   ह ै ं   उ न क ी   त स द ी क ़   भ ी   क र त ी   ह ै ं   -   ब े श क   ख ु द ा   अ प न े   ब न ् द ो ं   स े   ख ू ब   व ा क ़ ि फ   ह ै   द े ख   र ह ा   ह ै\"]\n",
            " ['T h e   c o   -   a c c u s e d   w a s   g i v e n   t h e   s a m e   s e n t e n c e   a s   t h e   p r i m e   o n e   .'\n",
            "  'स ह   -   अ भ ि य ु क ् त   क ो   व ह ी   स ज ़ ा   म ि ल ी   ज ो   म ू ल   -   अ भ ि य ु क ् त   क ो   द ी   ग ई   ।  ']\n",
            " ...\n",
            " ['T h e i r   q u a l i t i e s   a n d   c o n d i t i o n s   a r e   d i f f e r e n t   ,   i n   t h e   s a m e   m e a s u r e   a s   o n e   o r   o t h e r   o f   t h e   t h r e e   p r i m a r y   f o r c e s   p r e v a i l s   o v e r   t h e m   .'\n",
            "  'उ न क े   ग ु ण   औ र   द श ा ए ं   उ स ी   प र ि म ा ण   म े ं   भ ि न ् न   ह ै ं   ज ि स म े ं   ?   त ी न   म ू ल   श क ् त ि य ो ं   ?   म े ं   क ि स ी   ए क   न े   उ न ् ह े ं   प ् र भ ा व ि त   क ि य ा   ह ै   .  ']\n",
            " ['I   r e p l i e d   g i v i n g   t h e m   a l l   t h e   d e t a i l s   .'\n",
            "  \"'   म ै ं न े   व ि स ् त ा र   प ू र ् व क   उ त ् त र   द ि य े   ।  \"]\n",
            " ['A n o t h e r   c r e a t i o n   o f   t h e   s a m e   p o e t   c a l l e d   V r i n d a v a n a   -   M a h i m a m r i t a   a l s o   w a s   p o p u l a r   a m o n g   t h e   V a i s h n a v a   d e v o t e e s   .'\n",
            "  'इ स ी   क व ि   क ी   ए क   अ न ् य   क ृ त ि   व ृ ं द ा व न   म ह ि म ा म ृ त   भ ी   व ै ष ् ण व   भ क ् त ो ं   क े   ब ी च   ल ो क प ् र ि य   थ ी   ।  ']]\n"
          ],
          "name": "stdout"
        }
      ]
    },
    {
      "cell_type": "code",
      "metadata": {
        "id": "snJhFZEThtwy",
        "colab_type": "code",
        "outputId": "f9b25133-7b61-4c7d-f147-a7246f85af8e",
        "colab": {
          "base_uri": "https://localhost:8080/",
          "height": 387
        }
      },
      "source": [
        "\n",
        "evaluate_model(model, eng_tokenizer, testX, test)"
      ],
      "execution_count": 0,
      "outputs": [
        {
          "output_type": "error",
          "ename": "IndexError",
          "evalue": "ignored",
          "traceback": [
            "\u001b[0;31m---------------------------------------------------------------------------\u001b[0m",
            "\u001b[0;31mIndexError\u001b[0m                                Traceback (most recent call last)",
            "\u001b[0;32m<ipython-input-33-a3e1694dbb3f>\u001b[0m in \u001b[0;36m<module>\u001b[0;34m()\u001b[0m\n\u001b[1;32m      1\u001b[0m \u001b[0;34m\u001b[0m\u001b[0m\n\u001b[0;32m----> 2\u001b[0;31m \u001b[0mevaluate_model\u001b[0m\u001b[0;34m(\u001b[0m\u001b[0mmodel\u001b[0m\u001b[0;34m,\u001b[0m \u001b[0meng_tokenizer\u001b[0m\u001b[0;34m,\u001b[0m \u001b[0mtestX\u001b[0m\u001b[0;34m,\u001b[0m \u001b[0mtest\u001b[0m\u001b[0;34m)\u001b[0m\u001b[0;34m\u001b[0m\u001b[0;34m\u001b[0m\u001b[0m\n\u001b[0m",
            "\u001b[0;32m<ipython-input-26-6e60b38cb032>\u001b[0m in \u001b[0;36mevaluate_model\u001b[0;34m(model, tokenizer, sources, raw_dataset)\u001b[0m\n\u001b[1;32m      1\u001b[0m \u001b[0;32mdef\u001b[0m \u001b[0mevaluate_model\u001b[0m\u001b[0;34m(\u001b[0m\u001b[0mmodel\u001b[0m\u001b[0;34m,\u001b[0m \u001b[0mtokenizer\u001b[0m\u001b[0;34m,\u001b[0m \u001b[0msources\u001b[0m\u001b[0;34m,\u001b[0m \u001b[0mraw_dataset\u001b[0m\u001b[0;34m)\u001b[0m\u001b[0;34m:\u001b[0m\u001b[0;34m\u001b[0m\u001b[0;34m\u001b[0m\u001b[0m\n\u001b[1;32m      2\u001b[0m     \u001b[0mtemp_dataset\u001b[0m\u001b[0;34m=\u001b[0m\u001b[0mraw_dataset\u001b[0m\u001b[0;34m\u001b[0m\u001b[0;34m\u001b[0m\u001b[0m\n\u001b[0;32m----> 3\u001b[0;31m     \u001b[0mnumpy\u001b[0m\u001b[0;34m.\u001b[0m\u001b[0mdelete\u001b[0m\u001b[0;34m(\u001b[0m\u001b[0mtemp_dataset\u001b[0m\u001b[0;34m,\u001b[0m\u001b[0;36m2\u001b[0m\u001b[0;34m,\u001b[0m\u001b[0maxis\u001b[0m\u001b[0;34m=\u001b[0m\u001b[0;36m1\u001b[0m\u001b[0;34m)\u001b[0m\u001b[0;34m\u001b[0m\u001b[0;34m\u001b[0m\u001b[0m\n\u001b[0m\u001b[1;32m      4\u001b[0m     \u001b[0mprint\u001b[0m\u001b[0;34m(\u001b[0m\u001b[0mtemp_dataset\u001b[0m\u001b[0;34m)\u001b[0m\u001b[0;34m\u001b[0m\u001b[0;34m\u001b[0m\u001b[0m\n\u001b[1;32m      5\u001b[0m     \u001b[0mactual\u001b[0m\u001b[0;34m,\u001b[0m \u001b[0mpredicted\u001b[0m \u001b[0;34m=\u001b[0m \u001b[0mlist\u001b[0m\u001b[0;34m(\u001b[0m\u001b[0;34m)\u001b[0m\u001b[0;34m,\u001b[0m \u001b[0mlist\u001b[0m\u001b[0;34m(\u001b[0m\u001b[0;34m)\u001b[0m\u001b[0;34m\u001b[0m\u001b[0;34m\u001b[0m\u001b[0m\n",
            "\u001b[0;32m<__array_function__ internals>\u001b[0m in \u001b[0;36mdelete\u001b[0;34m(*args, **kwargs)\u001b[0m\n",
            "\u001b[0;32m/usr/local/lib/python3.6/dist-packages/numpy/lib/function_base.py\u001b[0m in \u001b[0;36mdelete\u001b[0;34m(arr, obj, axis)\u001b[0m\n\u001b[1;32m   4380\u001b[0m             raise IndexError(\n\u001b[1;32m   4381\u001b[0m                 \u001b[0;34m\"index %i is out of bounds for axis %i with \"\u001b[0m\u001b[0;34m\u001b[0m\u001b[0;34m\u001b[0m\u001b[0m\n\u001b[0;32m-> 4382\u001b[0;31m                 \"size %i\" % (obj, axis, N))\n\u001b[0m\u001b[1;32m   4383\u001b[0m         \u001b[0;32mif\u001b[0m \u001b[0;34m(\u001b[0m\u001b[0mobj\u001b[0m \u001b[0;34m<\u001b[0m \u001b[0;36m0\u001b[0m\u001b[0;34m)\u001b[0m\u001b[0;34m:\u001b[0m\u001b[0;34m\u001b[0m\u001b[0;34m\u001b[0m\u001b[0m\n\u001b[1;32m   4384\u001b[0m             \u001b[0mobj\u001b[0m \u001b[0;34m+=\u001b[0m \u001b[0mN\u001b[0m\u001b[0;34m\u001b[0m\u001b[0;34m\u001b[0m\u001b[0m\n",
            "\u001b[0;31mIndexError\u001b[0m: index 2 is out of bounds for axis 1 with size 2"
          ]
        }
      ]
    },
    {
      "cell_type": "code",
      "metadata": {
        "id": "CgP06R6wh0Oh",
        "colab_type": "code",
        "outputId": "72782a51-0d0b-465d-a92b-ffc3d149e392",
        "colab": {
          "base_uri": "https://localhost:8080/",
          "height": 442
        }
      },
      "source": [
        "temp_dataset=train\n",
        "#numpy.delete(temp_dataset,2,axis=1)\n",
        "print(temp_dataset)\n",
        "actual, predicted = list(), list()\n",
        "for i, source in enumerate(trainX):\n",
        "\t\t# translate encoded source text\n",
        "  source = source.reshape((1, source.shape[0]))\n",
        "  translation = predict_sequence(model, eng_tokenizer, source)\n",
        "        #(raw_dataset)\n",
        "        #raw_target, raw_src = temp_dataset[i]\n",
        "  raw_target=temp_dataset[i][0]\n",
        "  raw_src=temp_dataset[i][1]\n",
        "  if i < 10:\n",
        "    print('src=[%s], target=[%s], predicted=[%s]' % (raw_src, raw_target, translation))\n",
        "  actual.append([raw_target.split()])\n",
        "  predicted.append(translation.split())\n",
        "\t# calculate BLEU score\n",
        "print('BLEU-1: %f' % corpus_bleu(actual, predicted, weights=(1.0, 0, 0, 0)))\n",
        "print('BLEU-2: %f' % corpus_bleu(actual, predicted, weights=(0.5, 0.5, 0, 0)))\n",
        "print('BLEU-3: %f' % corpus_bleu(actual, predicted, weights=(0.3, 0.3, 0.3, 0)))\n",
        "print('BLEU-4: %f' % corpus_bleu(actual, predicted, weights=(0.25, 0.25, 0.25, 0.25)))"
      ],
      "execution_count": 0,
      "outputs": [
        {
          "output_type": "stream",
          "text": [
            "[[\"T h e   d u t y   o f   p u b l i c   m e n   o f   s t a n d i n g   i s   ,   a s   I   h a v e   m a d e   i t   c l e a r   t o   C o n g r e s s m e n   v i s i t i n g   m e   '   w i t h   s u c h   v a g u e   i m p u t a t i o n s   ,   t o   e x p o s e   s u c h   m e n   a n d   t o   l e a d   c o n c r e t e   e v i d e n c e   t o   p r o v e   t h e i r   c o n t e n t i o n s   .\"\n",
            "  'प ् र त ि ष ् ठ ि त   ज न स े व क ो ं   क ा   क र ् त व ् य   य ह   ह ै   ,   ज ै स ा   क ि   म ै ं न े   अ प न े   प ा स   ऐ स े   अ स ् प ष ् ट   अ र ो प ो ं   क े   स ा थ   आ न े   व ा ल े   क ा ं ग ् र े स   -   ज न ो ं   स े   स ् प ष ् ट   क ह ा   ह ै   क ि   व े   ऐ स े   आ द म ि य ो ं   क ा   भ ं ड ़ ा फ ो ड ़   क र े ं   औ र   अ प न े   आ र ो प ो ं   क ो   स ि द ् ध   क र न े   क े   ल ि ए   ठ ो स   स ब ू त   प े श   क र े ं   ।  ']\n",
            " ['A u t h e n t i c a t i o n   f a i l e d   f o r   a c c o u n t   %   s   .'\n",
            "  'ख ा त ा   क े   ल ि ए   स त ् य ा प न   अ स फ ल']\n",
            " ['S i n c e   a t t a c h m e n t   a n d   t h e   p o s t i n g   w a s   a t   D e l h i   ,   t h e   r e s p o n d e n t s   h a d   n o   p r o b l e m   i n   r e l e a s i n g   H R A   a n d   C C A   t o   t h e   p e t i t i o n e r   a s   p e r   R u l e s   a p p l i c a b l e   .'\n",
            "  'च ू ं क ि   न ि य ु क ् त ि   औ र   त ै न ा त ी   द ि ल ् ल ी   म े ं   थ ी   ,   प ् र त ् य र ् थ ि य ो ं   क ो   य ा च ी   क े   ल ि ए   ,   ल ा ग ू   न ि य म ो ं   क े   अ न ु स ा र   ,   ए च आ र ए   औ र   स ी स ी ए   न ि र व र ो ध   क र न े   म े ं   क ो ई   स म स ् य ा   न ह ी ं   थ ी   .  ']\n",
            " ...\n",
            " ['L o c a l   u s e r   c l e a r e d   t h e   c a l l   .'\n",
            "  'स ् थ ा न ी य   प ् र य ो क ् त ा   न े   क ॉ ल   क ो   ज ा न े   द ि य ा']\n",
            " ['M y   f a i t h   h e l p s   m e   o v e r c o m e   s u c h   n e g a t i v e   e m o t i o n s   a n d   f i n d   m y   e q u i l i b r i u m   .'\n",
            "  'म े र ा   व ि श ् व ा स   ह ी   म ु झ े   न क ा र ा त ् म क   भ ा व न ा ओ ं   प र   क ा ब ू   प ा न े   औ र   अ प न े   स ं त ु ल न   क ो   ख ो ज न े   म े ं   म द द   क र त ा   ह ै   ।  ']\n",
            " ['H e   w a s   t h u s   f o r c e d   ,   a s   m u c h   b y   o u t e r   c i r c u m s t a n c e s   a s   b y   a n   i n n e r   n e c e s s i t y   ,   t o   s t a n d   a l o n e   ,   t o   r e l y   e n t i r e l y   o n   h i s   i n n e r   r e s o u r c e s   ,   t o   s t a n d   f a c e   t o   f a c e   w i t h   G o d   .'\n",
            "  'औ र   इ स   प ् र क ा र   ब ा ह ् य   प र ि स ् थ ि त ि य ो ं   क े   स ा थ   स ा थ   आ ं त र ि क   अ न ि व ा र ् य त ा   क े   स ा म न े   अ प न े   आ ं त र ि क   स ं स ा ध न ो ं   प र   ह ी   व े   प ू र ी   त र ह   न ि र ् भ र   अ क े ल े   ख ड ़ े   र ह े   -   -   अ प न े   प र म ा त ् म ा   क े   स ं व ा द   क ा य म   र ख त े   ह ु ए   ।  ']]\n",
            "src=[प ् र त ि ष ् ठ ि त   ज न स े व क ो ं   क ा   क र ् त व ् य   य ह   ह ै   ,   ज ै स ा   क ि   म ै ं न े   अ प न े   प ा स   ऐ स े   अ स ् प ष ् ट   अ र ो प ो ं   क े   स ा थ   आ न े   व ा ल े   क ा ं ग ् र े स   -   ज न ो ं   स े   स ् प ष ् ट   क ह ा   ह ै   क ि   व े   ऐ स े   आ द म ि य ो ं   क ा   भ ं ड ़ ा फ ो ड ़   क र े ं   औ र   अ प न े   आ र ो प ो ं   क ो   स ि द ् ध   क र न े   क े   ल ि ए   ठ ो स   स ब ू त   प े श   क र े ं   ।  ], target=[T h e   d u t y   o f   p u b l i c   m e n   o f   s t a n d i n g   i s   ,   a s   I   h a v e   m a d e   i t   c l e a r   t o   C o n g r e s s m e n   v i s i t i n g   m e   '   w i t h   s u c h   v a g u e   i m p u t a t i o n s   ,   t o   e x p o s e   s u c h   m e n   a n d   t o   l e a d   c o n c r e t e   e v i d e n c e   t o   p r o v e   t h e i r   c o n t e n t i o n s   .], predicted=[]\n",
            "src=[ख ा त ा   क े   ल ि ए   स त ् य ा प न   अ स फ ल], target=[A u t h e n t i c a t i o n   f a i l e d   f o r   a c c o u n t   %   s   .], predicted=[]\n",
            "src=[च ू ं क ि   न ि य ु क ् त ि   औ र   त ै न ा त ी   द ि ल ् ल ी   म े ं   थ ी   ,   प ् र त ् य र ् थ ि य ो ं   क ो   य ा च ी   क े   ल ि ए   ,   ल ा ग ू   न ि य म ो ं   क े   अ न ु स ा र   ,   ए च आ र ए   औ र   स ी स ी ए   न ि र व र ो ध   क र न े   म े ं   क ो ई   स म स ् य ा   न ह ी ं   थ ी   .  ], target=[S i n c e   a t t a c h m e n t   a n d   t h e   p o s t i n g   w a s   a t   D e l h i   ,   t h e   r e s p o n d e n t s   h a d   n o   p r o b l e m   i n   r e l e a s i n g   H R A   a n d   C C A   t o   t h e   p e t i t i o n e r   a s   p e r   R u l e s   a p p l i c a b l e   .], predicted=[]\n",
            "src=[व ै क ल ् प ि क ः   G o o g l e   क ो   उ प य ो ग   क े   आ ं क ड ़ े   औ र   क ् र ै श   र ि प ो र ् ट   स ् व च ा ल ि त   र ू प   स े   भ े ज क र   C h r o m e   क ो   ब े ह त र   ब न ा न े   म े ं   स ह ा य त ा   क र े ं   .  ], target=[O p t i o n a l   :   H e l p   m a k e   C h r o m i u m   b e t t e r   b y   a u t o m a t i c a l l y   s e n d i n g   u s a g e   s t a t i s t i c s   a n d   c r a s h   r e p o r t s   t o   G o o g l e   .], predicted=[]\n",
            "src=[आ प क े   प ा स   न ि व े द ि त   र ि स ो र ् स   प र   प ह ू ँ च   क े   ल ि ए   अ ध ि क ा र   न ह ी ं   ह ै   .  ], target=[Y o u   a r e   n o t   a u t h o r i z e d   t o   a c c e s s   t h e   r e q u e s t e d   r e s o u r c e   .], predicted=[]\n",
            "src=[क ल ् प न ा   क ी ज ि य े   आ प क े   ब ी च   म े ं   ए क   र े ख ा   ह ै   ।  ], target=[S o   i m a g i n e   t h a t   t h e r e   i s   a n   i m a g i n a r y   l i n e   o u t   h e r e   ,   .], predicted=[]\n",
            "src=[ऐ   र स ू ल   ह म   ज ि स   ज ि स   क ा   उ न स े   व ा य द ा   क र   च ु क े   ह ै ं   उ न म े ं   स े   ब ा ज ़   ख ् व ा ह ा   त ु म ् ह े ं   द ि ख ा   द े ं   य ा   त ु म क ो   उ ठ ा   ल े   फ ि र   त ो   उ न   स ब क ो   ह म ा र ी   त र फ   ल ौ ट न ा   ह ी   ह ै   फ ि र   ज ो   क ु छ   य े   ल ो ग   क र   र ह े   ह ै ं   ख ़ ु द ा   त ो   उ स   प र   ग व ा ह   ह ी   ह ै], target=[W h e t h e r   W e   s h o w   y o u   a   p a r t   o f   w h a t   W e   p r o m i s e   t h e m   ,   o r   t a k e   y o u   a w a y   ,   t h e i r   r e t u r n   w i l l   b e   t o   U s   a n d   A l l a h   w i l l   b e   w i t n e s s   t o   w h a t   t h e y   d o   .], predicted=[]\n",
            "src=[उ स े   अ प न े   आ ग म न   क ी   स ू च न ा   द े न े   क े   ल ि ए   उ न ् ह ो ं न े   त ी न   ब ा र   स ् ट ी म   ब ो ट   क ी   स ी ट ी   ब ज ा ई   ।  ], target=[T h e y   b l e w   t h e   b o a t   '   s   w h i s t l e   t h r e e   t i m e s   t o   l e t   h i m   k n o w   o f   t h e i r   a r r i v a l   .], predicted=[]\n",
            "src=[ग ् य ा र ह   म े ं   स े   १ ०   ब ल ् ल े ब ा ज   आ उ ट   ह ो   ज ा त े   ह ै ं   ;   इ स   स ् थ ि त ि   म े ं   ट ी म   आ ल   आ उ ट   क ह ल ा त ी   ह ै   .  ], target=[1 0   o u t   o f   e l e v e n   g e t s   o u t   ;   t h i s   s i t u a t i o n   i s   c a l l e d   “   ” a l l   o u t   “   ”   .], predicted=[]\n",
            "src=[व ् य क ् त ि   क े   स ् व भ ा व   म े ं   र ु प ा न ् त र ण   ल ा न े   त थ ा   न य े   न ि र ् म ा ण   क ो   र ो क न े   क े   ल ि ए   न ै त ि क त ा   ए क   आ व श ् य क   उ प क र ण   ह ै   ।  ], target=[T h e   a p p a r a t u s   o f   m o r a l i t y   i s   n e c e s s a r y   t o   b r i n g   a b o u t   t h e   r e f o r m a t i o n   o f   m a n   '   s   n a t u r e   a n d   p r e v e n t   t h e   f o r m a t i o n   o f   n e w   k a r m a   .], predicted=[]\n"
          ],
          "name": "stdout"
        }
      ]
    },
    {
      "cell_type": "code",
      "metadata": {
        "id": "6oSmmGcbjdXx",
        "colab_type": "code",
        "colab": {}
      },
      "source": [
        ""
      ],
      "execution_count": 0,
      "outputs": []
    }
  ]
}